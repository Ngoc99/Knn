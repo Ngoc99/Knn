{
  "nbformat": 4,
  "nbformat_minor": 0,
  "metadata": {
    "colab": {
      "name": "1-Lab-DecisionTree.ipynb",
      "provenance": [],
      "collapsed_sections": [],
      "include_colab_link": true
    },
    "kernelspec": {
      "display_name": "Python 3",
      "language": "python",
      "name": "python3"
    },
    "language_info": {
      "codemirror_mode": {
        "name": "ipython",
        "version": 3
      },
      "file_extension": ".py",
      "mimetype": "text/x-python",
      "name": "python",
      "nbconvert_exporter": "python",
      "pygments_lexer": "ipython3",
      "version": "3.7.3"
    }
  },
  "cells": [
    {
      "cell_type": "markdown",
      "metadata": {
        "id": "view-in-github",
        "colab_type": "text"
      },
      "source": [
        "<a href=\"https://colab.research.google.com/github/Ngoc99/Knn/blob/master/bill_authentication_decision_tree.ipynb\" target=\"_parent\"><img src=\"https://colab.research.google.com/assets/colab-badge.svg\" alt=\"Open In Colab\"/></a>"
      ]
    },
    {
      "cell_type": "markdown",
      "metadata": {
        "colab_type": "text",
        "id": "gvKshvFzQorr"
      },
      "source": [
        "# Decision Tree in Python"
      ]
    },
    {
      "cell_type": "markdown",
      "metadata": {
        "colab_type": "text",
        "id": "YeHd4gDaQ0_c"
      },
      "source": [
        "## Introduction"
      ]
    },
    {
      "cell_type": "markdown",
      "metadata": {
        "colab_type": "text",
        "id": "VxauYFNjYzWw"
      },
      "source": [
        "\n",
        "* Author: thuanle@hcmut.edu.vn\n",
        "\n",
        "* Content:\n",
        "  - Practice the DecisionTree classifier\n",
        "  - Learn more about split the dataset into train and test.\n",
        "  - Evaluation by Accuracy score\n",
        "* Major steps:\n",
        "  - Load data from CSV, split into trainning set and test set\n",
        "  - Buidling kNN model.\n",
        "  - Evaluating results\n",
        "  - Training DecisionTree classifier model\n",
        "  - Evaluating results\n",
        "  - Visualize models"
      ]
    },
    {
      "cell_type": "markdown",
      "metadata": {
        "colab_type": "text",
        "id": "iqHlfOFUVQAD"
      },
      "source": [
        "## Configuration"
      ]
    },
    {
      "cell_type": "code",
      "metadata": {
        "colab_type": "code",
        "id": "hFmx_vCrVEX3",
        "colab": {}
      },
      "source": [
        "dataset_filename = \"bill_authentication.csv\""
      ],
      "execution_count": 0,
      "outputs": []
    },
    {
      "cell_type": "markdown",
      "metadata": {
        "colab_type": "text",
        "id": "H89hX3QbQor2"
      },
      "source": [
        "## Grab the data\n",
        "\n",
        "Since our file is in CSV format, we will use panda's read_csv method to read our CSV data file. Execute the following script to do so:"
      ]
    },
    {
      "cell_type": "code",
      "metadata": {
        "colab_type": "code",
        "id": "t85tLpXzQor5",
        "outputId": "bc875659-9603-4407-a034-ac3fa7752b9f",
        "colab": {
          "base_uri": "https://localhost:8080/",
          "height": 34
        }
      },
      "source": [
        "import pandas as pd  \n",
        "dataset = pd.read_csv(dataset_filename)\n",
        "dataset.shape"
      ],
      "execution_count": 16,
      "outputs": [
        {
          "output_type": "execute_result",
          "data": {
            "text/plain": [
              "(1372, 5)"
            ]
          },
          "metadata": {
            "tags": []
          },
          "execution_count": 16
        }
      ]
    },
    {
      "cell_type": "code",
      "metadata": {
        "colab_type": "code",
        "id": "A0dBLnZKQosF",
        "outputId": "48a22752-f714-424b-9c51-3ff1b2503e8b",
        "colab": {
          "base_uri": "https://localhost:8080/",
          "height": 34
        }
      },
      "source": [
        "# Overview about dataset\n",
        "dataset.keys()"
      ],
      "execution_count": 17,
      "outputs": [
        {
          "output_type": "execute_result",
          "data": {
            "text/plain": [
              "Index(['Variance', 'Skewness', 'Curtosis', 'Entropy', 'Class'], dtype='object')"
            ]
          },
          "metadata": {
            "tags": []
          },
          "execution_count": 17
        }
      ]
    },
    {
      "cell_type": "code",
      "metadata": {
        "colab_type": "code",
        "id": "6S5WHtRnQosJ",
        "outputId": "37bd5cc3-0bb3-40a9-b81b-462523593402",
        "colab": {
          "base_uri": "https://localhost:8080/",
          "height": 204
        }
      },
      "source": [
        "dataset.head()  "
      ],
      "execution_count": 18,
      "outputs": [
        {
          "output_type": "execute_result",
          "data": {
            "text/html": [
              "<div>\n",
              "<style scoped>\n",
              "    .dataframe tbody tr th:only-of-type {\n",
              "        vertical-align: middle;\n",
              "    }\n",
              "\n",
              "    .dataframe tbody tr th {\n",
              "        vertical-align: top;\n",
              "    }\n",
              "\n",
              "    .dataframe thead th {\n",
              "        text-align: right;\n",
              "    }\n",
              "</style>\n",
              "<table border=\"1\" class=\"dataframe\">\n",
              "  <thead>\n",
              "    <tr style=\"text-align: right;\">\n",
              "      <th></th>\n",
              "      <th>Variance</th>\n",
              "      <th>Skewness</th>\n",
              "      <th>Curtosis</th>\n",
              "      <th>Entropy</th>\n",
              "      <th>Class</th>\n",
              "    </tr>\n",
              "  </thead>\n",
              "  <tbody>\n",
              "    <tr>\n",
              "      <th>0</th>\n",
              "      <td>3.62160</td>\n",
              "      <td>8.6661</td>\n",
              "      <td>-2.8073</td>\n",
              "      <td>-0.44699</td>\n",
              "      <td>0</td>\n",
              "    </tr>\n",
              "    <tr>\n",
              "      <th>1</th>\n",
              "      <td>4.54590</td>\n",
              "      <td>8.1674</td>\n",
              "      <td>-2.4586</td>\n",
              "      <td>-1.46210</td>\n",
              "      <td>0</td>\n",
              "    </tr>\n",
              "    <tr>\n",
              "      <th>2</th>\n",
              "      <td>3.86600</td>\n",
              "      <td>-2.6383</td>\n",
              "      <td>1.9242</td>\n",
              "      <td>0.10645</td>\n",
              "      <td>0</td>\n",
              "    </tr>\n",
              "    <tr>\n",
              "      <th>3</th>\n",
              "      <td>3.45660</td>\n",
              "      <td>9.5228</td>\n",
              "      <td>-4.0112</td>\n",
              "      <td>-3.59440</td>\n",
              "      <td>0</td>\n",
              "    </tr>\n",
              "    <tr>\n",
              "      <th>4</th>\n",
              "      <td>0.32924</td>\n",
              "      <td>-4.4552</td>\n",
              "      <td>4.5718</td>\n",
              "      <td>-0.98880</td>\n",
              "      <td>0</td>\n",
              "    </tr>\n",
              "  </tbody>\n",
              "</table>\n",
              "</div>"
            ],
            "text/plain": [
              "   Variance  Skewness  Curtosis  Entropy  Class\n",
              "0   3.62160    8.6661   -2.8073 -0.44699      0\n",
              "1   4.54590    8.1674   -2.4586 -1.46210      0\n",
              "2   3.86600   -2.6383    1.9242  0.10645      0\n",
              "3   3.45660    9.5228   -4.0112 -3.59440      0\n",
              "4   0.32924   -4.4552    4.5718 -0.98880      0"
            ]
          },
          "metadata": {
            "tags": []
          },
          "execution_count": 18
        }
      ]
    },
    {
      "cell_type": "markdown",
      "metadata": {
        "colab_type": "text",
        "id": "NTob9ldXZST2"
      },
      "source": [
        "## Prepare train data and test set"
      ]
    },
    {
      "cell_type": "markdown",
      "metadata": {
        "colab_type": "text",
        "id": "_SHtTv-AQosM"
      },
      "source": [
        "The label is describe in **Class** column. So that we devide the dataset into attributes and labels"
      ]
    },
    {
      "cell_type": "code",
      "metadata": {
        "colab_type": "code",
        "id": "IWlX_Ip1QosN",
        "colab": {}
      },
      "source": [
        "X = dataset.drop('Class', axis=1)  \n",
        "y = dataset['Class']  "
      ],
      "execution_count": 0,
      "outputs": []
    },
    {
      "cell_type": "markdown",
      "metadata": {
        "colab_type": "text",
        "id": "gg1L0AW-2ScC"
      },
      "source": [
        "Here the X variable contains all the columns from the dataset, except the **Class** column, which is the label.\n",
        "\n",
        "The y variable contains the values from the **Class** column. \n",
        "\n",
        "The X variable is our attribute set and y variable contains corresponding labels."
      ]
    },
    {
      "cell_type": "markdown",
      "metadata": {
        "colab_type": "text",
        "id": "7mAg-sUBQosS"
      },
      "source": [
        "### Dividing our data into training and test sets. "
      ]
    },
    {
      "cell_type": "markdown",
      "metadata": {
        "colab_type": "text",
        "id": "0Fp9RNwf2oon"
      },
      "source": [
        "So, we split the test into 2 sets: training set and testing set. We use to split up 20% of the data in to the test set and 80% for training."
      ]
    },
    {
      "cell_type": "code",
      "metadata": {
        "colab_type": "code",
        "id": "8fXzzhfHQosT",
        "outputId": "acc88f05-0dce-4653-dd7b-7bdbaf8fbd43",
        "colab": {
          "base_uri": "https://localhost:8080/",
          "height": 51
        }
      },
      "source": [
        "from sklearn.model_selection import train_test_split  \n",
        "X_train, X_test, y_train, y_test = train_test_split(X, y, test_size=0.20)\n",
        "print(X_train.shape, y_train.size)\n",
        "print(X_test.shape, y_test.shape)"
      ],
      "execution_count": 20,
      "outputs": [
        {
          "output_type": "stream",
          "text": [
            "(1097, 4) 1097\n",
            "(275, 4) (275,)\n"
          ],
          "name": "stdout"
        }
      ]
    },
    {
      "cell_type": "markdown",
      "metadata": {
        "colab_type": "text",
        "id": "RvkIhGKzQosZ"
      },
      "source": [
        "## Training with Decision Tree"
      ]
    },
    {
      "cell_type": "markdown",
      "metadata": {
        "colab_type": "text",
        "id": "Whzch7nq5Fdc"
      },
      "source": [
        "Now, let's build a **Decision Tree** model"
      ]
    },
    {
      "cell_type": "markdown",
      "metadata": {
        "id": "olZQc-lcOlKg",
        "colab_type": "text"
      },
      "source": [
        "### a) criterion='gini'"
      ]
    },
    {
      "cell_type": "code",
      "metadata": {
        "colab_type": "code",
        "id": "A5VjKMNFQosZ",
        "outputId": "1b50a0d8-de83-4843-d34f-9be0bd986ca1",
        "colab": {
          "base_uri": "https://localhost:8080/",
          "height": 119
        }
      },
      "source": [
        "from sklearn.tree import DecisionTreeClassifier  \n",
        "dt = DecisionTreeClassifier(criterion='gini')  \n",
        "dt.fit(X_train, y_train)  "
      ],
      "execution_count": 21,
      "outputs": [
        {
          "output_type": "execute_result",
          "data": {
            "text/plain": [
              "DecisionTreeClassifier(ccp_alpha=0.0, class_weight=None, criterion='gini',\n",
              "                       max_depth=None, max_features=None, max_leaf_nodes=None,\n",
              "                       min_impurity_decrease=0.0, min_impurity_split=None,\n",
              "                       min_samples_leaf=1, min_samples_split=2,\n",
              "                       min_weight_fraction_leaf=0.0, presort='deprecated',\n",
              "                       random_state=None, splitter='best')"
            ]
          },
          "metadata": {
            "tags": []
          },
          "execution_count": 21
        }
      ]
    },
    {
      "cell_type": "code",
      "metadata": {
        "colab_type": "code",
        "id": "577pssBYQose",
        "outputId": "db7d5c8f-90c3-4cb7-f37f-dc0b6ae64c8f",
        "colab": {
          "base_uri": "https://localhost:8080/",
          "height": 238
        }
      },
      "source": [
        "y_pred_dt = dt.predict(X_test)  \n",
        "y_pred_dt"
      ],
      "execution_count": 22,
      "outputs": [
        {
          "output_type": "execute_result",
          "data": {
            "text/plain": [
              "array([1, 0, 1, 1, 0, 1, 1, 0, 0, 0, 0, 1, 1, 0, 1, 0, 1, 1, 0, 1, 0, 1,\n",
              "       1, 1, 0, 0, 0, 0, 1, 0, 1, 0, 1, 0, 1, 1, 0, 0, 0, 0, 0, 0, 0, 0,\n",
              "       1, 1, 1, 1, 0, 1, 0, 0, 0, 1, 1, 1, 0, 0, 1, 1, 0, 1, 1, 0, 1, 0,\n",
              "       1, 1, 1, 0, 1, 0, 1, 1, 1, 1, 1, 1, 1, 0, 1, 0, 1, 0, 1, 0, 1, 0,\n",
              "       0, 1, 1, 1, 1, 1, 0, 1, 0, 0, 0, 1, 0, 0, 1, 0, 1, 1, 0, 1, 0, 1,\n",
              "       0, 0, 0, 0, 1, 1, 0, 1, 0, 0, 0, 0, 0, 0, 0, 1, 1, 1, 0, 0, 1, 1,\n",
              "       1, 1, 1, 0, 1, 0, 1, 0, 1, 0, 1, 1, 1, 0, 1, 0, 0, 0, 0, 1, 1, 1,\n",
              "       1, 0, 0, 1, 0, 0, 0, 1, 0, 0, 1, 0, 1, 1, 0, 0, 0, 0, 0, 0, 1, 0,\n",
              "       1, 0, 1, 0, 1, 1, 0, 0, 1, 0, 0, 0, 1, 0, 0, 0, 0, 0, 0, 1, 0, 0,\n",
              "       0, 1, 0, 0, 1, 0, 1, 0, 0, 1, 0, 1, 0, 0, 0, 0, 1, 0, 0, 0, 1, 0,\n",
              "       1, 1, 1, 1, 0, 0, 0, 1, 0, 1, 0, 1, 0, 0, 0, 1, 1, 0, 0, 0, 1, 0,\n",
              "       0, 1, 0, 0, 1, 0, 1, 0, 0, 0, 0, 0, 1, 0, 1, 0, 1, 0, 1, 0, 1, 1,\n",
              "       1, 0, 0, 1, 0, 0, 1, 1, 1, 0, 0])"
            ]
          },
          "metadata": {
            "tags": []
          },
          "execution_count": 22
        }
      ]
    },
    {
      "cell_type": "markdown",
      "metadata": {
        "colab_type": "text",
        "id": "UusvjyEMQosl"
      },
      "source": [
        "##### Evaluating the Algorithm\n",
        "\n"
      ]
    },
    {
      "cell_type": "code",
      "metadata": {
        "colab_type": "code",
        "id": "ZrVWAiUDQosm",
        "outputId": "2bf4639a-6647-4439-d3c4-7d2769464737",
        "colab": {
          "base_uri": "https://localhost:8080/",
          "height": 34
        }
      },
      "source": [
        "dt_score = dt.score(X_test, y_test)\n",
        "print(f\"Decision Tree classifier accuracy score is {dt_score}\")"
      ],
      "execution_count": 23,
      "outputs": [
        {
          "output_type": "stream",
          "text": [
            "Decision Tree classifier accuracy score is 0.9927272727272727\n"
          ],
          "name": "stdout"
        }
      ]
    },
    {
      "cell_type": "markdown",
      "metadata": {
        "id": "s6JhtXXsOlKn",
        "colab_type": "text"
      },
      "source": [
        "### b) criterion='entropy'"
      ]
    },
    {
      "cell_type": "code",
      "metadata": {
        "id": "TT0xuAi1OlKn",
        "colab_type": "code",
        "colab": {
          "base_uri": "https://localhost:8080/",
          "height": 119
        },
        "outputId": "a093db0d-7cda-47a3-838f-64bf9e66be15"
      },
      "source": [
        "from sklearn.tree import DecisionTreeClassifier  \n",
        "dt2 = DecisionTreeClassifier(criterion='entropy')  \n",
        "dt2.fit(X_train, y_train)  "
      ],
      "execution_count": 24,
      "outputs": [
        {
          "output_type": "execute_result",
          "data": {
            "text/plain": [
              "DecisionTreeClassifier(ccp_alpha=0.0, class_weight=None, criterion='entropy',\n",
              "                       max_depth=None, max_features=None, max_leaf_nodes=None,\n",
              "                       min_impurity_decrease=0.0, min_impurity_split=None,\n",
              "                       min_samples_leaf=1, min_samples_split=2,\n",
              "                       min_weight_fraction_leaf=0.0, presort='deprecated',\n",
              "                       random_state=None, splitter='best')"
            ]
          },
          "metadata": {
            "tags": []
          },
          "execution_count": 24
        }
      ]
    },
    {
      "cell_type": "code",
      "metadata": {
        "scrolled": false,
        "id": "UuvY1Lx9OlKp",
        "colab_type": "code",
        "colab": {
          "base_uri": "https://localhost:8080/",
          "height": 238
        },
        "outputId": "851e874a-3245-4195-e8d4-90c153e03528"
      },
      "source": [
        "y_pred_dt = dt2.predict(X_test)  \n",
        "y_pred_dt"
      ],
      "execution_count": 25,
      "outputs": [
        {
          "output_type": "execute_result",
          "data": {
            "text/plain": [
              "array([1, 0, 1, 1, 0, 1, 1, 0, 0, 0, 0, 1, 1, 0, 1, 0, 1, 1, 0, 1, 0, 1,\n",
              "       1, 1, 0, 0, 0, 0, 1, 0, 1, 0, 1, 0, 1, 1, 0, 0, 0, 0, 0, 0, 0, 0,\n",
              "       1, 1, 1, 1, 0, 1, 0, 0, 0, 1, 1, 1, 0, 0, 1, 1, 0, 1, 1, 0, 1, 0,\n",
              "       1, 1, 1, 0, 1, 0, 1, 1, 1, 1, 1, 1, 1, 0, 1, 0, 1, 0, 1, 0, 1, 0,\n",
              "       0, 1, 1, 1, 1, 1, 0, 1, 0, 0, 0, 1, 0, 0, 1, 0, 1, 1, 0, 1, 0, 1,\n",
              "       0, 0, 0, 0, 1, 1, 0, 1, 0, 0, 0, 0, 0, 0, 0, 1, 1, 1, 0, 0, 1, 1,\n",
              "       1, 1, 1, 0, 1, 0, 1, 0, 1, 0, 1, 1, 1, 0, 1, 0, 0, 0, 0, 1, 1, 1,\n",
              "       1, 0, 0, 1, 0, 0, 0, 1, 0, 0, 1, 0, 1, 1, 0, 0, 0, 0, 0, 0, 1, 0,\n",
              "       1, 0, 1, 0, 1, 1, 0, 0, 1, 0, 0, 0, 1, 0, 0, 0, 0, 0, 0, 1, 0, 0,\n",
              "       0, 1, 0, 0, 1, 0, 1, 0, 0, 1, 0, 1, 0, 0, 0, 0, 1, 0, 0, 0, 1, 0,\n",
              "       1, 1, 1, 1, 0, 0, 0, 1, 0, 1, 0, 1, 0, 0, 0, 1, 1, 0, 0, 0, 1, 0,\n",
              "       0, 1, 0, 0, 1, 0, 1, 0, 0, 0, 0, 0, 1, 0, 1, 0, 1, 0, 1, 0, 1, 1,\n",
              "       1, 0, 0, 1, 0, 0, 1, 1, 1, 0, 0])"
            ]
          },
          "metadata": {
            "tags": []
          },
          "execution_count": 25
        }
      ]
    },
    {
      "cell_type": "markdown",
      "metadata": {
        "colab_type": "text",
        "id": "-wG5583POlKr"
      },
      "source": [
        "##### Evaluating the Algorithm\n",
        "\n"
      ]
    },
    {
      "cell_type": "code",
      "metadata": {
        "colab_type": "code",
        "outputId": "13d1f6f6-07b1-4f4b-e096-556e7b4d52f3",
        "id": "5XTVYeAHOlKs",
        "colab": {
          "base_uri": "https://localhost:8080/",
          "height": 34
        }
      },
      "source": [
        "dt_score = dt.score(X_test, y_test)\n",
        "print(f\"Decision Tree classifier accuracy score is {dt_score}\")"
      ],
      "execution_count": 26,
      "outputs": [
        {
          "output_type": "stream",
          "text": [
            "Decision Tree classifier accuracy score is 0.9927272727272727\n"
          ],
          "name": "stdout"
        }
      ]
    },
    {
      "cell_type": "markdown",
      "metadata": {
        "colab_type": "text",
        "id": "pSKS600B8a7r"
      },
      "source": [
        "## Extra section"
      ]
    },
    {
      "cell_type": "markdown",
      "metadata": {
        "colab_type": "text",
        "id": "VOR4z1m7Qoss"
      },
      "source": [
        "### Visualize decision tree"
      ]
    },
    {
      "cell_type": "markdown",
      "metadata": {
        "colab_type": "text",
        "id": "flCqCeIl8xm9"
      },
      "source": [
        "We can visualize the Decision Tree model using the [Graphviz](https://www.graphviz.org/) tool.\n",
        "\n",
        "Graphviz is an easy tool for drawing graph. For example: the code\n",
        "\n",
        "```\n",
        "digraph G {Hello->World}\n",
        "```\n",
        "\n",
        "will generate the following graph\n",
        "\n",
        "![digraph](https://graphviz.gitlab.io/_pages/Gallery/directed/hello.png)\n",
        "\n",
        "* More example https://www.graphviz.org/gallery/\n",
        "* You can play around at http://www.webgraphviz.com/ or https://dreampuf.github.io/GraphvizOnline/"
      ]
    },
    {
      "cell_type": "markdown",
      "metadata": {
        "colab_type": "text",
        "id": "mIG3R9Lk_5NS"
      },
      "source": [
        "So let's generate the graph."
      ]
    },
    {
      "cell_type": "code",
      "metadata": {
        "colab_type": "code",
        "id": "YIZ49PfhQosu",
        "outputId": "d45c4bbc-0443-41f1-d726-09da967bfc14",
        "colab": {
          "base_uri": "https://localhost:8080/",
          "height": 1785
        }
      },
      "source": [
        "from sklearn.tree import export_graphviz\n",
        "dot_data = export_graphviz(dt, out_file=None)\n",
        "print(dot_data)"
      ],
      "execution_count": 27,
      "outputs": [
        {
          "output_type": "stream",
          "text": [
            "digraph Tree {\n",
            "node [shape=box] ;\n",
            "0 [label=\"X[0] <= 0.32\\ngini = 0.494\\nsamples = 1097\\nvalue = [610, 487]\"] ;\n",
            "1 [label=\"X[1] <= 6.838\\ngini = 0.294\\nsamples = 509\\nvalue = [91, 418]\"] ;\n",
            "0 -> 1 [labeldistance=2.5, labelangle=45, headlabel=\"True\"] ;\n",
            "2 [label=\"X[2] <= 6.219\\ngini = 0.107\\nsamples = 423\\nvalue = [24, 399]\"] ;\n",
            "1 -> 2 ;\n",
            "3 [label=\"X[1] <= 5.519\\ngini = 0.039\\nsamples = 303\\nvalue = [6, 297]\"] ;\n",
            "2 -> 3 ;\n",
            "4 [label=\"X[2] <= 4.878\\ngini = 0.007\\nsamples = 288\\nvalue = [1, 287]\"] ;\n",
            "3 -> 4 ;\n",
            "5 [label=\"gini = 0.0\\nsamples = 258\\nvalue = [0, 258]\"] ;\n",
            "4 -> 5 ;\n",
            "6 [label=\"X[2] <= 4.946\\ngini = 0.064\\nsamples = 30\\nvalue = [1, 29]\"] ;\n",
            "4 -> 6 ;\n",
            "7 [label=\"gini = 0.0\\nsamples = 1\\nvalue = [1, 0]\"] ;\n",
            "6 -> 7 ;\n",
            "8 [label=\"gini = 0.0\\nsamples = 29\\nvalue = [0, 29]\"] ;\n",
            "6 -> 8 ;\n",
            "9 [label=\"X[0] <= -2.312\\ngini = 0.444\\nsamples = 15\\nvalue = [5, 10]\"] ;\n",
            "3 -> 9 ;\n",
            "10 [label=\"gini = 0.0\\nsamples = 10\\nvalue = [0, 10]\"] ;\n",
            "9 -> 10 ;\n",
            "11 [label=\"gini = 0.0\\nsamples = 5\\nvalue = [5, 0]\"] ;\n",
            "9 -> 11 ;\n",
            "12 [label=\"X[1] <= -4.675\\ngini = 0.255\\nsamples = 120\\nvalue = [18, 102]\"] ;\n",
            "2 -> 12 ;\n",
            "13 [label=\"gini = 0.0\\nsamples = 101\\nvalue = [0, 101]\"] ;\n",
            "12 -> 13 ;\n",
            "14 [label=\"X[2] <= 6.615\\ngini = 0.1\\nsamples = 19\\nvalue = [18, 1]\"] ;\n",
            "12 -> 14 ;\n",
            "15 [label=\"X[0] <= -1.708\\ngini = 0.5\\nsamples = 2\\nvalue = [1, 1]\"] ;\n",
            "14 -> 15 ;\n",
            "16 [label=\"gini = 0.0\\nsamples = 1\\nvalue = [0, 1]\"] ;\n",
            "15 -> 16 ;\n",
            "17 [label=\"gini = 0.0\\nsamples = 1\\nvalue = [1, 0]\"] ;\n",
            "15 -> 17 ;\n",
            "18 [label=\"gini = 0.0\\nsamples = 17\\nvalue = [17, 0]\"] ;\n",
            "14 -> 18 ;\n",
            "19 [label=\"X[0] <= -3.423\\ngini = 0.344\\nsamples = 86\\nvalue = [67, 19]\"] ;\n",
            "1 -> 19 ;\n",
            "20 [label=\"X[2] <= 1.878\\ngini = 0.095\\nsamples = 20\\nvalue = [1, 19]\"] ;\n",
            "19 -> 20 ;\n",
            "21 [label=\"gini = 0.0\\nsamples = 19\\nvalue = [0, 19]\"] ;\n",
            "20 -> 21 ;\n",
            "22 [label=\"gini = 0.0\\nsamples = 1\\nvalue = [1, 0]\"] ;\n",
            "20 -> 22 ;\n",
            "23 [label=\"gini = 0.0\\nsamples = 66\\nvalue = [66, 0]\"] ;\n",
            "19 -> 23 ;\n",
            "24 [label=\"X[2] <= -4.386\\ngini = 0.207\\nsamples = 588\\nvalue = [519, 69]\"] ;\n",
            "0 -> 24 [labeldistance=2.5, labelangle=-45, headlabel=\"False\"] ;\n",
            "25 [label=\"X[0] <= 3.304\\ngini = 0.388\\nsamples = 38\\nvalue = [10, 28]\"] ;\n",
            "24 -> 25 ;\n",
            "26 [label=\"gini = 0.0\\nsamples = 28\\nvalue = [0, 28]\"] ;\n",
            "25 -> 26 ;\n",
            "27 [label=\"gini = 0.0\\nsamples = 10\\nvalue = [10, 0]\"] ;\n",
            "25 -> 27 ;\n",
            "28 [label=\"X[0] <= 1.592\\ngini = 0.138\\nsamples = 550\\nvalue = [509, 41]\"] ;\n",
            "24 -> 28 ;\n",
            "29 [label=\"X[2] <= -2.272\\ngini = 0.37\\nsamples = 159\\nvalue = [120, 39]\"] ;\n",
            "28 -> 29 ;\n",
            "30 [label=\"X[1] <= 5.736\\ngini = 0.153\\nsamples = 24\\nvalue = [2, 22]\"] ;\n",
            "29 -> 30 ;\n",
            "31 [label=\"gini = 0.0\\nsamples = 22\\nvalue = [0, 22]\"] ;\n",
            "30 -> 31 ;\n",
            "32 [label=\"gini = 0.0\\nsamples = 2\\nvalue = [2, 0]\"] ;\n",
            "30 -> 32 ;\n",
            "33 [label=\"X[3] <= 0.082\\ngini = 0.22\\nsamples = 135\\nvalue = [118, 17]\"] ;\n",
            "29 -> 33 ;\n",
            "34 [label=\"X[0] <= 0.42\\ngini = 0.02\\nsamples = 101\\nvalue = [100, 1]\"] ;\n",
            "33 -> 34 ;\n",
            "35 [label=\"X[0] <= 0.401\\ngini = 0.133\\nsamples = 14\\nvalue = [13, 1]\"] ;\n",
            "34 -> 35 ;\n",
            "36 [label=\"gini = 0.0\\nsamples = 13\\nvalue = [13, 0]\"] ;\n",
            "35 -> 36 ;\n",
            "37 [label=\"gini = 0.0\\nsamples = 1\\nvalue = [0, 1]\"] ;\n",
            "35 -> 37 ;\n",
            "38 [label=\"gini = 0.0\\nsamples = 87\\nvalue = [87, 0]\"] ;\n",
            "34 -> 38 ;\n",
            "39 [label=\"X[1] <= 1.647\\ngini = 0.498\\nsamples = 34\\nvalue = [18, 16]\"] ;\n",
            "33 -> 39 ;\n",
            "40 [label=\"X[2] <= 1.952\\ngini = 0.198\\nsamples = 18\\nvalue = [2, 16]\"] ;\n",
            "39 -> 40 ;\n",
            "41 [label=\"gini = 0.0\\nsamples = 16\\nvalue = [0, 16]\"] ;\n",
            "40 -> 41 ;\n",
            "42 [label=\"gini = 0.0\\nsamples = 2\\nvalue = [2, 0]\"] ;\n",
            "40 -> 42 ;\n",
            "43 [label=\"gini = 0.0\\nsamples = 16\\nvalue = [16, 0]\"] ;\n",
            "39 -> 43 ;\n",
            "44 [label=\"X[0] <= 2.037\\ngini = 0.01\\nsamples = 391\\nvalue = [389, 2]\"] ;\n",
            "28 -> 44 ;\n",
            "45 [label=\"X[2] <= -2.675\\ngini = 0.081\\nsamples = 47\\nvalue = [45, 2]\"] ;\n",
            "44 -> 45 ;\n",
            "46 [label=\"X[3] <= -1.796\\ngini = 0.444\\nsamples = 3\\nvalue = [1, 2]\"] ;\n",
            "45 -> 46 ;\n",
            "47 [label=\"gini = 0.0\\nsamples = 1\\nvalue = [1, 0]\"] ;\n",
            "46 -> 47 ;\n",
            "48 [label=\"gini = 0.0\\nsamples = 2\\nvalue = [0, 2]\"] ;\n",
            "46 -> 48 ;\n",
            "49 [label=\"gini = 0.0\\nsamples = 44\\nvalue = [44, 0]\"] ;\n",
            "45 -> 49 ;\n",
            "50 [label=\"gini = 0.0\\nsamples = 344\\nvalue = [344, 0]\"] ;\n",
            "44 -> 50 ;\n",
            "}\n"
          ],
          "name": "stdout"
        }
      ]
    },
    {
      "cell_type": "markdown",
      "metadata": {
        "colab_type": "text",
        "id": "0X6_ggMHFJ0Z"
      },
      "source": [
        "Copy the code above, paste it to online graphviz service like http://viz-js.com/ and see the result."
      ]
    },
    {
      "cell_type": "markdown",
      "metadata": {
        "colab_type": "text",
        "id": "NnUDorsr8wjv"
      },
      "source": [
        "### Jypiter does it all"
      ]
    },
    {
      "cell_type": "markdown",
      "metadata": {
        "colab_type": "text",
        "id": "tZsrkGvwBBta"
      },
      "source": [
        "If we want to display the graph automatically inside Jupiter, we'll need\n",
        "* Install Graphviz binary\n",
        "* Call the Graphviz inside Jupiter and grab the result.\n",
        "\n",
        "**Note**: Google Colab does not let us install Graphviz binary, so that we cant make with work with Google Colab.\n"
      ]
    },
    {
      "cell_type": "code",
      "metadata": {
        "id": "SB5DSOWeOlK1",
        "colab_type": "code",
        "colab": {}
      },
      "source": [
        ""
      ],
      "execution_count": 0,
      "outputs": []
    },
    {
      "cell_type": "code",
      "metadata": {
        "colab_type": "code",
        "id": "1eRgxNHtQosy",
        "colab": {
          "base_uri": "https://localhost:8080/",
          "height": 1093
        },
        "outputId": "c03f43ea-cea8-4344-8cf0-d8903353c6c6"
      },
      "source": [
        "import graphviz \n",
        "graph = graphviz.Source(dot_data)\n",
        "graph"
      ],
      "execution_count": 28,
      "outputs": [
        {
          "output_type": "execute_result",
          "data": {
            "text/plain": [
              "<graphviz.files.Source at 0x7f1607ad8278>"
            ],
            "image/svg+xml": "<?xml version=\"1.0\" encoding=\"UTF-8\" standalone=\"no\"?>\n<!DOCTYPE svg PUBLIC \"-//W3C//DTD SVG 1.1//EN\"\n \"http://www.w3.org/Graphics/SVG/1.1/DTD/svg11.dtd\">\n<!-- Generated by graphviz version 2.40.1 (20161225.0304)\n -->\n<!-- Title: Tree Pages: 1 -->\n<svg width=\"1640pt\" height=\"789pt\"\n viewBox=\"0.00 0.00 1640.00 789.00\" xmlns=\"http://www.w3.org/2000/svg\" xmlns:xlink=\"http://www.w3.org/1999/xlink\">\n<g id=\"graph0\" class=\"graph\" transform=\"scale(1 1) rotate(0) translate(4 785)\">\n<title>Tree</title>\n<polygon fill=\"#ffffff\" stroke=\"transparent\" points=\"-4,4 -4,-785 1636,-785 1636,4 -4,4\"/>\n<!-- 0 -->\n<g id=\"node1\" class=\"node\">\n<title>0</title>\n<polygon fill=\"none\" stroke=\"#000000\" points=\"880.5,-781 755.5,-781 755.5,-713 880.5,-713 880.5,-781\"/>\n<text text-anchor=\"middle\" x=\"818\" y=\"-765.8\" font-family=\"Times,serif\" font-size=\"14.00\" fill=\"#000000\">X[0] &lt;= 0.32</text>\n<text text-anchor=\"middle\" x=\"818\" y=\"-750.8\" font-family=\"Times,serif\" font-size=\"14.00\" fill=\"#000000\">gini = 0.494</text>\n<text text-anchor=\"middle\" x=\"818\" y=\"-735.8\" font-family=\"Times,serif\" font-size=\"14.00\" fill=\"#000000\">samples = 1097</text>\n<text text-anchor=\"middle\" x=\"818\" y=\"-720.8\" font-family=\"Times,serif\" font-size=\"14.00\" fill=\"#000000\">value = [610, 487]</text>\n</g>\n<!-- 1 -->\n<g id=\"node2\" class=\"node\">\n<title>1</title>\n<polygon fill=\"none\" stroke=\"#000000\" points=\"758.5,-677 641.5,-677 641.5,-609 758.5,-609 758.5,-677\"/>\n<text text-anchor=\"middle\" x=\"700\" y=\"-661.8\" font-family=\"Times,serif\" font-size=\"14.00\" fill=\"#000000\">X[1] &lt;= 6.838</text>\n<text text-anchor=\"middle\" x=\"700\" y=\"-646.8\" font-family=\"Times,serif\" font-size=\"14.00\" fill=\"#000000\">gini = 0.294</text>\n<text text-anchor=\"middle\" x=\"700\" y=\"-631.8\" font-family=\"Times,serif\" font-size=\"14.00\" fill=\"#000000\">samples = 509</text>\n<text text-anchor=\"middle\" x=\"700\" y=\"-616.8\" font-family=\"Times,serif\" font-size=\"14.00\" fill=\"#000000\">value = [91, 418]</text>\n</g>\n<!-- 0&#45;&gt;1 -->\n<g id=\"edge1\" class=\"edge\">\n<title>0&#45;&gt;1</title>\n<path fill=\"none\" stroke=\"#000000\" d=\"M779.3624,-712.9465C768.8696,-703.6986 757.3974,-693.5876 746.5186,-683.9994\"/>\n<polygon fill=\"#000000\" stroke=\"#000000\" points=\"748.5407,-681.1163 738.7244,-677.13 743.9123,-686.3678 748.5407,-681.1163\"/>\n<text text-anchor=\"middle\" x=\"740.2979\" y=\"-698.3804\" font-family=\"Times,serif\" font-size=\"14.00\" fill=\"#000000\">True</text>\n</g>\n<!-- 24 -->\n<g id=\"node25\" class=\"node\">\n<title>24</title>\n<polygon fill=\"none\" stroke=\"#000000\" points=\"1029.5,-677 912.5,-677 912.5,-609 1029.5,-609 1029.5,-677\"/>\n<text text-anchor=\"middle\" x=\"971\" y=\"-661.8\" font-family=\"Times,serif\" font-size=\"14.00\" fill=\"#000000\">X[2] &lt;= &#45;4.386</text>\n<text text-anchor=\"middle\" x=\"971\" y=\"-646.8\" font-family=\"Times,serif\" font-size=\"14.00\" fill=\"#000000\">gini = 0.207</text>\n<text text-anchor=\"middle\" x=\"971\" y=\"-631.8\" font-family=\"Times,serif\" font-size=\"14.00\" fill=\"#000000\">samples = 588</text>\n<text text-anchor=\"middle\" x=\"971\" y=\"-616.8\" font-family=\"Times,serif\" font-size=\"14.00\" fill=\"#000000\">value = [519, 69]</text>\n</g>\n<!-- 0&#45;&gt;24 -->\n<g id=\"edge24\" class=\"edge\">\n<title>0&#45;&gt;24</title>\n<path fill=\"none\" stroke=\"#000000\" d=\"M868.0979,-712.9465C882.2313,-703.3395 897.7352,-692.8009 912.3233,-682.8848\"/>\n<polygon fill=\"#000000\" stroke=\"#000000\" points=\"914.4868,-685.6463 920.7895,-677.13 910.5517,-679.8571 914.4868,-685.6463\"/>\n<text text-anchor=\"middle\" x=\"916.1073\" y=\"-697.9876\" font-family=\"Times,serif\" font-size=\"14.00\" fill=\"#000000\">False</text>\n</g>\n<!-- 2 -->\n<g id=\"node3\" class=\"node\">\n<title>2</title>\n<polygon fill=\"none\" stroke=\"#000000\" points=\"576.5,-573 459.5,-573 459.5,-505 576.5,-505 576.5,-573\"/>\n<text text-anchor=\"middle\" x=\"518\" y=\"-557.8\" font-family=\"Times,serif\" font-size=\"14.00\" fill=\"#000000\">X[2] &lt;= 6.219</text>\n<text text-anchor=\"middle\" x=\"518\" y=\"-542.8\" font-family=\"Times,serif\" font-size=\"14.00\" fill=\"#000000\">gini = 0.107</text>\n<text text-anchor=\"middle\" x=\"518\" y=\"-527.8\" font-family=\"Times,serif\" font-size=\"14.00\" fill=\"#000000\">samples = 423</text>\n<text text-anchor=\"middle\" x=\"518\" y=\"-512.8\" font-family=\"Times,serif\" font-size=\"14.00\" fill=\"#000000\">value = [24, 399]</text>\n</g>\n<!-- 1&#45;&gt;2 -->\n<g id=\"edge2\" class=\"edge\">\n<title>1&#45;&gt;2</title>\n<path fill=\"none\" stroke=\"#000000\" d=\"M641.4122,-609.5213C623.6412,-599.3664 603.9731,-588.1275 585.6579,-577.6617\"/>\n<polygon fill=\"#000000\" stroke=\"#000000\" points=\"587.2087,-574.5167 576.7898,-572.5942 583.7357,-580.5945 587.2087,-574.5167\"/>\n</g>\n<!-- 19 -->\n<g id=\"node20\" class=\"node\">\n<title>19</title>\n<polygon fill=\"none\" stroke=\"#000000\" points=\"755,-573 645,-573 645,-505 755,-505 755,-573\"/>\n<text text-anchor=\"middle\" x=\"700\" y=\"-557.8\" font-family=\"Times,serif\" font-size=\"14.00\" fill=\"#000000\">X[0] &lt;= &#45;3.423</text>\n<text text-anchor=\"middle\" x=\"700\" y=\"-542.8\" font-family=\"Times,serif\" font-size=\"14.00\" fill=\"#000000\">gini = 0.344</text>\n<text text-anchor=\"middle\" x=\"700\" y=\"-527.8\" font-family=\"Times,serif\" font-size=\"14.00\" fill=\"#000000\">samples = 86</text>\n<text text-anchor=\"middle\" x=\"700\" y=\"-512.8\" font-family=\"Times,serif\" font-size=\"14.00\" fill=\"#000000\">value = [67, 19]</text>\n</g>\n<!-- 1&#45;&gt;19 -->\n<g id=\"edge19\" class=\"edge\">\n<title>1&#45;&gt;19</title>\n<path fill=\"none\" stroke=\"#000000\" d=\"M700,-608.9465C700,-600.776 700,-591.9318 700,-583.3697\"/>\n<polygon fill=\"#000000\" stroke=\"#000000\" points=\"703.5001,-583.13 700,-573.13 696.5001,-583.13 703.5001,-583.13\"/>\n</g>\n<!-- 3 -->\n<g id=\"node4\" class=\"node\">\n<title>3</title>\n<polygon fill=\"none\" stroke=\"#000000\" points=\"358,-469 248,-469 248,-401 358,-401 358,-469\"/>\n<text text-anchor=\"middle\" x=\"303\" y=\"-453.8\" font-family=\"Times,serif\" font-size=\"14.00\" fill=\"#000000\">X[1] &lt;= 5.519</text>\n<text text-anchor=\"middle\" x=\"303\" y=\"-438.8\" font-family=\"Times,serif\" font-size=\"14.00\" fill=\"#000000\">gini = 0.039</text>\n<text text-anchor=\"middle\" x=\"303\" y=\"-423.8\" font-family=\"Times,serif\" font-size=\"14.00\" fill=\"#000000\">samples = 303</text>\n<text text-anchor=\"middle\" x=\"303\" y=\"-408.8\" font-family=\"Times,serif\" font-size=\"14.00\" fill=\"#000000\">value = [6, 297]</text>\n</g>\n<!-- 2&#45;&gt;3 -->\n<g id=\"edge3\" class=\"edge\">\n<title>2&#45;&gt;3</title>\n<path fill=\"none\" stroke=\"#000000\" d=\"M459.2503,-510.5815C430.8664,-496.8516 396.7298,-480.339 367.6136,-466.255\"/>\n<polygon fill=\"#000000\" stroke=\"#000000\" points=\"368.8766,-462.978 358.3504,-461.7741 365.8284,-469.2795 368.8766,-462.978\"/>\n</g>\n<!-- 12 -->\n<g id=\"node13\" class=\"node\">\n<title>12</title>\n<polygon fill=\"none\" stroke=\"#000000\" points=\"576.5,-469 459.5,-469 459.5,-401 576.5,-401 576.5,-469\"/>\n<text text-anchor=\"middle\" x=\"518\" y=\"-453.8\" font-family=\"Times,serif\" font-size=\"14.00\" fill=\"#000000\">X[1] &lt;= &#45;4.675</text>\n<text text-anchor=\"middle\" x=\"518\" y=\"-438.8\" font-family=\"Times,serif\" font-size=\"14.00\" fill=\"#000000\">gini = 0.255</text>\n<text text-anchor=\"middle\" x=\"518\" y=\"-423.8\" font-family=\"Times,serif\" font-size=\"14.00\" fill=\"#000000\">samples = 120</text>\n<text text-anchor=\"middle\" x=\"518\" y=\"-408.8\" font-family=\"Times,serif\" font-size=\"14.00\" fill=\"#000000\">value = [18, 102]</text>\n</g>\n<!-- 2&#45;&gt;12 -->\n<g id=\"edge12\" class=\"edge\">\n<title>2&#45;&gt;12</title>\n<path fill=\"none\" stroke=\"#000000\" d=\"M518,-504.9465C518,-496.776 518,-487.9318 518,-479.3697\"/>\n<polygon fill=\"#000000\" stroke=\"#000000\" points=\"521.5001,-479.13 518,-469.13 514.5001,-479.13 521.5001,-479.13\"/>\n</g>\n<!-- 4 -->\n<g id=\"node5\" class=\"node\">\n<title>4</title>\n<polygon fill=\"none\" stroke=\"#000000\" points=\"232,-365 122,-365 122,-297 232,-297 232,-365\"/>\n<text text-anchor=\"middle\" x=\"177\" y=\"-349.8\" font-family=\"Times,serif\" font-size=\"14.00\" fill=\"#000000\">X[2] &lt;= 4.878</text>\n<text text-anchor=\"middle\" x=\"177\" y=\"-334.8\" font-family=\"Times,serif\" font-size=\"14.00\" fill=\"#000000\">gini = 0.007</text>\n<text text-anchor=\"middle\" x=\"177\" y=\"-319.8\" font-family=\"Times,serif\" font-size=\"14.00\" fill=\"#000000\">samples = 288</text>\n<text text-anchor=\"middle\" x=\"177\" y=\"-304.8\" font-family=\"Times,serif\" font-size=\"14.00\" fill=\"#000000\">value = [1, 287]</text>\n</g>\n<!-- 3&#45;&gt;4 -->\n<g id=\"edge4\" class=\"edge\">\n<title>3&#45;&gt;4</title>\n<path fill=\"none\" stroke=\"#000000\" d=\"M261.7429,-400.9465C250.4299,-391.6088 238.0508,-381.3911 226.3342,-371.7203\"/>\n<polygon fill=\"#000000\" stroke=\"#000000\" points=\"228.29,-368.7964 218.3498,-365.13 223.8341,-374.195 228.29,-368.7964\"/>\n</g>\n<!-- 9 -->\n<g id=\"node10\" class=\"node\">\n<title>9</title>\n<polygon fill=\"none\" stroke=\"#000000\" points=\"356,-365 250,-365 250,-297 356,-297 356,-365\"/>\n<text text-anchor=\"middle\" x=\"303\" y=\"-349.8\" font-family=\"Times,serif\" font-size=\"14.00\" fill=\"#000000\">X[0] &lt;= &#45;2.312</text>\n<text text-anchor=\"middle\" x=\"303\" y=\"-334.8\" font-family=\"Times,serif\" font-size=\"14.00\" fill=\"#000000\">gini = 0.444</text>\n<text text-anchor=\"middle\" x=\"303\" y=\"-319.8\" font-family=\"Times,serif\" font-size=\"14.00\" fill=\"#000000\">samples = 15</text>\n<text text-anchor=\"middle\" x=\"303\" y=\"-304.8\" font-family=\"Times,serif\" font-size=\"14.00\" fill=\"#000000\">value = [5, 10]</text>\n</g>\n<!-- 3&#45;&gt;9 -->\n<g id=\"edge9\" class=\"edge\">\n<title>3&#45;&gt;9</title>\n<path fill=\"none\" stroke=\"#000000\" d=\"M303,-400.9465C303,-392.776 303,-383.9318 303,-375.3697\"/>\n<polygon fill=\"#000000\" stroke=\"#000000\" points=\"306.5001,-375.13 303,-365.13 299.5001,-375.13 306.5001,-375.13\"/>\n</g>\n<!-- 5 -->\n<g id=\"node6\" class=\"node\">\n<title>5</title>\n<polygon fill=\"none\" stroke=\"#000000\" points=\"110,-253.5 0,-253.5 0,-200.5 110,-200.5 110,-253.5\"/>\n<text text-anchor=\"middle\" x=\"55\" y=\"-238.3\" font-family=\"Times,serif\" font-size=\"14.00\" fill=\"#000000\">gini = 0.0</text>\n<text text-anchor=\"middle\" x=\"55\" y=\"-223.3\" font-family=\"Times,serif\" font-size=\"14.00\" fill=\"#000000\">samples = 258</text>\n<text text-anchor=\"middle\" x=\"55\" y=\"-208.3\" font-family=\"Times,serif\" font-size=\"14.00\" fill=\"#000000\">value = [0, 258]</text>\n</g>\n<!-- 4&#45;&gt;5 -->\n<g id=\"edge5\" class=\"edge\">\n<title>4&#45;&gt;5</title>\n<path fill=\"none\" stroke=\"#000000\" d=\"M137.0526,-296.9465C123.2268,-285.1606 107.7564,-271.9726 94.0071,-260.2519\"/>\n<polygon fill=\"#000000\" stroke=\"#000000\" points=\"96.0168,-257.366 86.136,-253.5422 91.4756,-262.6931 96.0168,-257.366\"/>\n</g>\n<!-- 6 -->\n<g id=\"node7\" class=\"node\">\n<title>6</title>\n<polygon fill=\"none\" stroke=\"#000000\" points=\"230,-261 128,-261 128,-193 230,-193 230,-261\"/>\n<text text-anchor=\"middle\" x=\"179\" y=\"-245.8\" font-family=\"Times,serif\" font-size=\"14.00\" fill=\"#000000\">X[2] &lt;= 4.946</text>\n<text text-anchor=\"middle\" x=\"179\" y=\"-230.8\" font-family=\"Times,serif\" font-size=\"14.00\" fill=\"#000000\">gini = 0.064</text>\n<text text-anchor=\"middle\" x=\"179\" y=\"-215.8\" font-family=\"Times,serif\" font-size=\"14.00\" fill=\"#000000\">samples = 30</text>\n<text text-anchor=\"middle\" x=\"179\" y=\"-200.8\" font-family=\"Times,serif\" font-size=\"14.00\" fill=\"#000000\">value = [1, 29]</text>\n</g>\n<!-- 4&#45;&gt;6 -->\n<g id=\"edge6\" class=\"edge\">\n<title>4&#45;&gt;6</title>\n<path fill=\"none\" stroke=\"#000000\" d=\"M177.6549,-296.9465C177.812,-288.776 177.9821,-279.9318 178.1467,-271.3697\"/>\n<polygon fill=\"#000000\" stroke=\"#000000\" points=\"181.6506,-271.1955 178.3437,-261.13 174.6519,-271.0608 181.6506,-271.1955\"/>\n</g>\n<!-- 7 -->\n<g id=\"node8\" class=\"node\">\n<title>7</title>\n<polygon fill=\"none\" stroke=\"#000000\" points=\"168.5,-149.5 73.5,-149.5 73.5,-96.5 168.5,-96.5 168.5,-149.5\"/>\n<text text-anchor=\"middle\" x=\"121\" y=\"-134.3\" font-family=\"Times,serif\" font-size=\"14.00\" fill=\"#000000\">gini = 0.0</text>\n<text text-anchor=\"middle\" x=\"121\" y=\"-119.3\" font-family=\"Times,serif\" font-size=\"14.00\" fill=\"#000000\">samples = 1</text>\n<text text-anchor=\"middle\" x=\"121\" y=\"-104.3\" font-family=\"Times,serif\" font-size=\"14.00\" fill=\"#000000\">value = [1, 0]</text>\n</g>\n<!-- 6&#45;&gt;7 -->\n<g id=\"edge7\" class=\"edge\">\n<title>6&#45;&gt;7</title>\n<path fill=\"none\" stroke=\"#000000\" d=\"M160.0086,-192.9465C153.8657,-181.9316 147.0399,-169.6922 140.8373,-158.5703\"/>\n<polygon fill=\"#000000\" stroke=\"#000000\" points=\"143.7299,-156.5711 135.8024,-149.5422 137.6163,-159.9806 143.7299,-156.5711\"/>\n</g>\n<!-- 8 -->\n<g id=\"node9\" class=\"node\">\n<title>8</title>\n<polygon fill=\"none\" stroke=\"#000000\" points=\"289,-149.5 187,-149.5 187,-96.5 289,-96.5 289,-149.5\"/>\n<text text-anchor=\"middle\" x=\"238\" y=\"-134.3\" font-family=\"Times,serif\" font-size=\"14.00\" fill=\"#000000\">gini = 0.0</text>\n<text text-anchor=\"middle\" x=\"238\" y=\"-119.3\" font-family=\"Times,serif\" font-size=\"14.00\" fill=\"#000000\">samples = 29</text>\n<text text-anchor=\"middle\" x=\"238\" y=\"-104.3\" font-family=\"Times,serif\" font-size=\"14.00\" fill=\"#000000\">value = [0, 29]</text>\n</g>\n<!-- 6&#45;&gt;8 -->\n<g id=\"edge8\" class=\"edge\">\n<title>6&#45;&gt;8</title>\n<path fill=\"none\" stroke=\"#000000\" d=\"M198.3188,-192.9465C204.5676,-181.9316 211.5112,-169.6922 217.8207,-158.5703\"/>\n<polygon fill=\"#000000\" stroke=\"#000000\" points=\"221.0523,-159.967 222.9424,-149.5422 214.9638,-156.513 221.0523,-159.967\"/>\n</g>\n<!-- 10 -->\n<g id=\"node11\" class=\"node\">\n<title>10</title>\n<polygon fill=\"none\" stroke=\"#000000\" points=\"353,-253.5 251,-253.5 251,-200.5 353,-200.5 353,-253.5\"/>\n<text text-anchor=\"middle\" x=\"302\" y=\"-238.3\" font-family=\"Times,serif\" font-size=\"14.00\" fill=\"#000000\">gini = 0.0</text>\n<text text-anchor=\"middle\" x=\"302\" y=\"-223.3\" font-family=\"Times,serif\" font-size=\"14.00\" fill=\"#000000\">samples = 10</text>\n<text text-anchor=\"middle\" x=\"302\" y=\"-208.3\" font-family=\"Times,serif\" font-size=\"14.00\" fill=\"#000000\">value = [0, 10]</text>\n</g>\n<!-- 9&#45;&gt;10 -->\n<g id=\"edge10\" class=\"edge\">\n<title>9&#45;&gt;10</title>\n<path fill=\"none\" stroke=\"#000000\" d=\"M302.6726,-296.9465C302.5698,-286.2621 302.456,-274.4254 302.3517,-263.5742\"/>\n<polygon fill=\"#000000\" stroke=\"#000000\" points=\"305.8513,-263.508 302.2552,-253.5422 298.8516,-263.5754 305.8513,-263.508\"/>\n</g>\n<!-- 11 -->\n<g id=\"node12\" class=\"node\">\n<title>11</title>\n<polygon fill=\"none\" stroke=\"#000000\" points=\"466.5,-253.5 371.5,-253.5 371.5,-200.5 466.5,-200.5 466.5,-253.5\"/>\n<text text-anchor=\"middle\" x=\"419\" y=\"-238.3\" font-family=\"Times,serif\" font-size=\"14.00\" fill=\"#000000\">gini = 0.0</text>\n<text text-anchor=\"middle\" x=\"419\" y=\"-223.3\" font-family=\"Times,serif\" font-size=\"14.00\" fill=\"#000000\">samples = 5</text>\n<text text-anchor=\"middle\" x=\"419\" y=\"-208.3\" font-family=\"Times,serif\" font-size=\"14.00\" fill=\"#000000\">value = [5, 0]</text>\n</g>\n<!-- 9&#45;&gt;11 -->\n<g id=\"edge11\" class=\"edge\">\n<title>9&#45;&gt;11</title>\n<path fill=\"none\" stroke=\"#000000\" d=\"M340.9827,-296.9465C354.1286,-285.1606 368.8382,-271.9726 381.9113,-260.2519\"/>\n<polygon fill=\"#000000\" stroke=\"#000000\" points=\"384.286,-262.8236 389.3953,-253.5422 379.6131,-257.6116 384.286,-262.8236\"/>\n</g>\n<!-- 13 -->\n<g id=\"node14\" class=\"node\">\n<title>13</title>\n<polygon fill=\"none\" stroke=\"#000000\" points=\"484,-357.5 374,-357.5 374,-304.5 484,-304.5 484,-357.5\"/>\n<text text-anchor=\"middle\" x=\"429\" y=\"-342.3\" font-family=\"Times,serif\" font-size=\"14.00\" fill=\"#000000\">gini = 0.0</text>\n<text text-anchor=\"middle\" x=\"429\" y=\"-327.3\" font-family=\"Times,serif\" font-size=\"14.00\" fill=\"#000000\">samples = 101</text>\n<text text-anchor=\"middle\" x=\"429\" y=\"-312.3\" font-family=\"Times,serif\" font-size=\"14.00\" fill=\"#000000\">value = [0, 101]</text>\n</g>\n<!-- 12&#45;&gt;13 -->\n<g id=\"edge13\" class=\"edge\">\n<title>12&#45;&gt;13</title>\n<path fill=\"none\" stroke=\"#000000\" d=\"M488.8581,-400.9465C479.0548,-389.491 468.1181,-376.711 458.3025,-365.2412\"/>\n<polygon fill=\"#000000\" stroke=\"#000000\" points=\"460.8751,-362.8642 451.714,-357.5422 455.5567,-367.4156 460.8751,-362.8642\"/>\n</g>\n<!-- 14 -->\n<g id=\"node15\" class=\"node\">\n<title>14</title>\n<polygon fill=\"none\" stroke=\"#000000\" points=\"604,-365 502,-365 502,-297 604,-297 604,-365\"/>\n<text text-anchor=\"middle\" x=\"553\" y=\"-349.8\" font-family=\"Times,serif\" font-size=\"14.00\" fill=\"#000000\">X[2] &lt;= 6.615</text>\n<text text-anchor=\"middle\" x=\"553\" y=\"-334.8\" font-family=\"Times,serif\" font-size=\"14.00\" fill=\"#000000\">gini = 0.1</text>\n<text text-anchor=\"middle\" x=\"553\" y=\"-319.8\" font-family=\"Times,serif\" font-size=\"14.00\" fill=\"#000000\">samples = 19</text>\n<text text-anchor=\"middle\" x=\"553\" y=\"-304.8\" font-family=\"Times,serif\" font-size=\"14.00\" fill=\"#000000\">value = [18, 1]</text>\n</g>\n<!-- 12&#45;&gt;14 -->\n<g id=\"edge14\" class=\"edge\">\n<title>12&#45;&gt;14</title>\n<path fill=\"none\" stroke=\"#000000\" d=\"M529.4603,-400.9465C532.2704,-392.5965 535.3173,-383.5427 538.2577,-374.8056\"/>\n<polygon fill=\"#000000\" stroke=\"#000000\" points=\"541.6415,-375.7241 541.5139,-365.13 535.0071,-373.4913 541.6415,-375.7241\"/>\n</g>\n<!-- 15 -->\n<g id=\"node16\" class=\"node\">\n<title>15</title>\n<polygon fill=\"none\" stroke=\"#000000\" points=\"599,-261 493,-261 493,-193 599,-193 599,-261\"/>\n<text text-anchor=\"middle\" x=\"546\" y=\"-245.8\" font-family=\"Times,serif\" font-size=\"14.00\" fill=\"#000000\">X[0] &lt;= &#45;1.708</text>\n<text text-anchor=\"middle\" x=\"546\" y=\"-230.8\" font-family=\"Times,serif\" font-size=\"14.00\" fill=\"#000000\">gini = 0.5</text>\n<text text-anchor=\"middle\" x=\"546\" y=\"-215.8\" font-family=\"Times,serif\" font-size=\"14.00\" fill=\"#000000\">samples = 2</text>\n<text text-anchor=\"middle\" x=\"546\" y=\"-200.8\" font-family=\"Times,serif\" font-size=\"14.00\" fill=\"#000000\">value = [1, 1]</text>\n</g>\n<!-- 14&#45;&gt;15 -->\n<g id=\"edge15\" class=\"edge\">\n<title>14&#45;&gt;15</title>\n<path fill=\"none\" stroke=\"#000000\" d=\"M550.7079,-296.9465C550.158,-288.776 549.5627,-279.9318 548.9864,-271.3697\"/>\n<polygon fill=\"#000000\" stroke=\"#000000\" points=\"552.461,-270.8723 548.2972,-261.13 545.4768,-271.3425 552.461,-270.8723\"/>\n</g>\n<!-- 18 -->\n<g id=\"node19\" class=\"node\">\n<title>18</title>\n<polygon fill=\"none\" stroke=\"#000000\" points=\"719,-253.5 617,-253.5 617,-200.5 719,-200.5 719,-253.5\"/>\n<text text-anchor=\"middle\" x=\"668\" y=\"-238.3\" font-family=\"Times,serif\" font-size=\"14.00\" fill=\"#000000\">gini = 0.0</text>\n<text text-anchor=\"middle\" x=\"668\" y=\"-223.3\" font-family=\"Times,serif\" font-size=\"14.00\" fill=\"#000000\">samples = 17</text>\n<text text-anchor=\"middle\" x=\"668\" y=\"-208.3\" font-family=\"Times,serif\" font-size=\"14.00\" fill=\"#000000\">value = [17, 0]</text>\n</g>\n<!-- 14&#45;&gt;18 -->\n<g id=\"edge18\" class=\"edge\">\n<title>14&#45;&gt;18</title>\n<path fill=\"none\" stroke=\"#000000\" d=\"M590.6553,-296.9465C603.6878,-285.1606 618.2706,-271.9726 631.2311,-260.2519\"/>\n<polygon fill=\"#000000\" stroke=\"#000000\" points=\"633.5812,-262.8456 638.6505,-253.5422 628.886,-257.6537 633.5812,-262.8456\"/>\n</g>\n<!-- 16 -->\n<g id=\"node17\" class=\"node\">\n<title>16</title>\n<polygon fill=\"none\" stroke=\"#000000\" points=\"536.5,-149.5 441.5,-149.5 441.5,-96.5 536.5,-96.5 536.5,-149.5\"/>\n<text text-anchor=\"middle\" x=\"489\" y=\"-134.3\" font-family=\"Times,serif\" font-size=\"14.00\" fill=\"#000000\">gini = 0.0</text>\n<text text-anchor=\"middle\" x=\"489\" y=\"-119.3\" font-family=\"Times,serif\" font-size=\"14.00\" fill=\"#000000\">samples = 1</text>\n<text text-anchor=\"middle\" x=\"489\" y=\"-104.3\" font-family=\"Times,serif\" font-size=\"14.00\" fill=\"#000000\">value = [0, 1]</text>\n</g>\n<!-- 15&#45;&gt;16 -->\n<g id=\"edge16\" class=\"edge\">\n<title>15&#45;&gt;16</title>\n<path fill=\"none\" stroke=\"#000000\" d=\"M527.3361,-192.9465C521.2991,-181.9316 514.5909,-169.6922 508.4953,-158.5703\"/>\n<polygon fill=\"#000000\" stroke=\"#000000\" points=\"511.4227,-156.6292 503.5471,-149.5422 505.2842,-159.9936 511.4227,-156.6292\"/>\n</g>\n<!-- 17 -->\n<g id=\"node18\" class=\"node\">\n<title>17</title>\n<polygon fill=\"none\" stroke=\"#000000\" points=\"649.5,-149.5 554.5,-149.5 554.5,-96.5 649.5,-96.5 649.5,-149.5\"/>\n<text text-anchor=\"middle\" x=\"602\" y=\"-134.3\" font-family=\"Times,serif\" font-size=\"14.00\" fill=\"#000000\">gini = 0.0</text>\n<text text-anchor=\"middle\" x=\"602\" y=\"-119.3\" font-family=\"Times,serif\" font-size=\"14.00\" fill=\"#000000\">samples = 1</text>\n<text text-anchor=\"middle\" x=\"602\" y=\"-104.3\" font-family=\"Times,serif\" font-size=\"14.00\" fill=\"#000000\">value = [1, 0]</text>\n</g>\n<!-- 15&#45;&gt;17 -->\n<g id=\"edge17\" class=\"edge\">\n<title>15&#45;&gt;17</title>\n<path fill=\"none\" stroke=\"#000000\" d=\"M564.3365,-192.9465C570.2676,-181.9316 576.8581,-169.6922 582.8468,-158.5703\"/>\n<polygon fill=\"#000000\" stroke=\"#000000\" points=\"586.0487,-160.0063 587.7081,-149.5422 579.8854,-156.6875 586.0487,-160.0063\"/>\n</g>\n<!-- 20 -->\n<g id=\"node21\" class=\"node\">\n<title>20</title>\n<polygon fill=\"none\" stroke=\"#000000\" points=\"724,-469 622,-469 622,-401 724,-401 724,-469\"/>\n<text text-anchor=\"middle\" x=\"673\" y=\"-453.8\" font-family=\"Times,serif\" font-size=\"14.00\" fill=\"#000000\">X[2] &lt;= 1.878</text>\n<text text-anchor=\"middle\" x=\"673\" y=\"-438.8\" font-family=\"Times,serif\" font-size=\"14.00\" fill=\"#000000\">gini = 0.095</text>\n<text text-anchor=\"middle\" x=\"673\" y=\"-423.8\" font-family=\"Times,serif\" font-size=\"14.00\" fill=\"#000000\">samples = 20</text>\n<text text-anchor=\"middle\" x=\"673\" y=\"-408.8\" font-family=\"Times,serif\" font-size=\"14.00\" fill=\"#000000\">value = [1, 19]</text>\n</g>\n<!-- 19&#45;&gt;20 -->\n<g id=\"edge20\" class=\"edge\">\n<title>19&#45;&gt;20</title>\n<path fill=\"none\" stroke=\"#000000\" d=\"M691.1592,-504.9465C689.0147,-496.6863 686.6914,-487.7374 684.4458,-479.0875\"/>\n<polygon fill=\"#000000\" stroke=\"#000000\" points=\"687.7613,-477.9296 681.8607,-469.13 680.9859,-479.6887 687.7613,-477.9296\"/>\n</g>\n<!-- 23 -->\n<g id=\"node24\" class=\"node\">\n<title>23</title>\n<polygon fill=\"none\" stroke=\"#000000\" points=\"844,-461.5 742,-461.5 742,-408.5 844,-408.5 844,-461.5\"/>\n<text text-anchor=\"middle\" x=\"793\" y=\"-446.3\" font-family=\"Times,serif\" font-size=\"14.00\" fill=\"#000000\">gini = 0.0</text>\n<text text-anchor=\"middle\" x=\"793\" y=\"-431.3\" font-family=\"Times,serif\" font-size=\"14.00\" fill=\"#000000\">samples = 66</text>\n<text text-anchor=\"middle\" x=\"793\" y=\"-416.3\" font-family=\"Times,serif\" font-size=\"14.00\" fill=\"#000000\">value = [66, 0]</text>\n</g>\n<!-- 19&#45;&gt;23 -->\n<g id=\"edge23\" class=\"edge\">\n<title>19&#45;&gt;23</title>\n<path fill=\"none\" stroke=\"#000000\" d=\"M730.4517,-504.9465C740.6955,-493.491 752.1238,-480.711 762.3805,-469.2412\"/>\n<polygon fill=\"#000000\" stroke=\"#000000\" points=\"765.2083,-471.3295 769.2652,-461.5422 759.9903,-466.6634 765.2083,-471.3295\"/>\n</g>\n<!-- 21 -->\n<g id=\"node22\" class=\"node\">\n<title>21</title>\n<polygon fill=\"none\" stroke=\"#000000\" points=\"724,-357.5 622,-357.5 622,-304.5 724,-304.5 724,-357.5\"/>\n<text text-anchor=\"middle\" x=\"673\" y=\"-342.3\" font-family=\"Times,serif\" font-size=\"14.00\" fill=\"#000000\">gini = 0.0</text>\n<text text-anchor=\"middle\" x=\"673\" y=\"-327.3\" font-family=\"Times,serif\" font-size=\"14.00\" fill=\"#000000\">samples = 19</text>\n<text text-anchor=\"middle\" x=\"673\" y=\"-312.3\" font-family=\"Times,serif\" font-size=\"14.00\" fill=\"#000000\">value = [0, 19]</text>\n</g>\n<!-- 20&#45;&gt;21 -->\n<g id=\"edge21\" class=\"edge\">\n<title>20&#45;&gt;21</title>\n<path fill=\"none\" stroke=\"#000000\" d=\"M673,-400.9465C673,-390.2621 673,-378.4254 673,-367.5742\"/>\n<polygon fill=\"#000000\" stroke=\"#000000\" points=\"676.5001,-367.5421 673,-357.5422 669.5001,-367.5422 676.5001,-367.5421\"/>\n</g>\n<!-- 22 -->\n<g id=\"node23\" class=\"node\">\n<title>22</title>\n<polygon fill=\"none\" stroke=\"#000000\" points=\"837.5,-357.5 742.5,-357.5 742.5,-304.5 837.5,-304.5 837.5,-357.5\"/>\n<text text-anchor=\"middle\" x=\"790\" y=\"-342.3\" font-family=\"Times,serif\" font-size=\"14.00\" fill=\"#000000\">gini = 0.0</text>\n<text text-anchor=\"middle\" x=\"790\" y=\"-327.3\" font-family=\"Times,serif\" font-size=\"14.00\" fill=\"#000000\">samples = 1</text>\n<text text-anchor=\"middle\" x=\"790\" y=\"-312.3\" font-family=\"Times,serif\" font-size=\"14.00\" fill=\"#000000\">value = [1, 0]</text>\n</g>\n<!-- 20&#45;&gt;22 -->\n<g id=\"edge22\" class=\"edge\">\n<title>20&#45;&gt;22</title>\n<path fill=\"none\" stroke=\"#000000\" d=\"M711.3102,-400.9465C724.5694,-389.1606 739.4058,-375.9726 752.5916,-364.2519\"/>\n<polygon fill=\"#000000\" stroke=\"#000000\" points=\"754.9912,-366.8018 760.1401,-357.5422 750.3407,-361.5699 754.9912,-366.8018\"/>\n</g>\n<!-- 25 -->\n<g id=\"node26\" class=\"node\">\n<title>25</title>\n<polygon fill=\"none\" stroke=\"#000000\" points=\"1026,-573 916,-573 916,-505 1026,-505 1026,-573\"/>\n<text text-anchor=\"middle\" x=\"971\" y=\"-557.8\" font-family=\"Times,serif\" font-size=\"14.00\" fill=\"#000000\">X[0] &lt;= 3.304</text>\n<text text-anchor=\"middle\" x=\"971\" y=\"-542.8\" font-family=\"Times,serif\" font-size=\"14.00\" fill=\"#000000\">gini = 0.388</text>\n<text text-anchor=\"middle\" x=\"971\" y=\"-527.8\" font-family=\"Times,serif\" font-size=\"14.00\" fill=\"#000000\">samples = 38</text>\n<text text-anchor=\"middle\" x=\"971\" y=\"-512.8\" font-family=\"Times,serif\" font-size=\"14.00\" fill=\"#000000\">value = [10, 28]</text>\n</g>\n<!-- 24&#45;&gt;25 -->\n<g id=\"edge25\" class=\"edge\">\n<title>24&#45;&gt;25</title>\n<path fill=\"none\" stroke=\"#000000\" d=\"M971,-608.9465C971,-600.776 971,-591.9318 971,-583.3697\"/>\n<polygon fill=\"#000000\" stroke=\"#000000\" points=\"974.5001,-583.13 971,-573.13 967.5001,-583.13 974.5001,-583.13\"/>\n</g>\n<!-- 28 -->\n<g id=\"node29\" class=\"node\">\n<title>28</title>\n<polygon fill=\"none\" stroke=\"#000000\" points=\"1219.5,-573 1102.5,-573 1102.5,-505 1219.5,-505 1219.5,-573\"/>\n<text text-anchor=\"middle\" x=\"1161\" y=\"-557.8\" font-family=\"Times,serif\" font-size=\"14.00\" fill=\"#000000\">X[0] &lt;= 1.592</text>\n<text text-anchor=\"middle\" x=\"1161\" y=\"-542.8\" font-family=\"Times,serif\" font-size=\"14.00\" fill=\"#000000\">gini = 0.138</text>\n<text text-anchor=\"middle\" x=\"1161\" y=\"-527.8\" font-family=\"Times,serif\" font-size=\"14.00\" fill=\"#000000\">samples = 550</text>\n<text text-anchor=\"middle\" x=\"1161\" y=\"-512.8\" font-family=\"Times,serif\" font-size=\"14.00\" fill=\"#000000\">value = [509, 41]</text>\n</g>\n<!-- 24&#45;&gt;28 -->\n<g id=\"edge28\" class=\"edge\">\n<title>24&#45;&gt;28</title>\n<path fill=\"none\" stroke=\"#000000\" d=\"M1029.5566,-610.948C1049.7828,-599.8768 1072.6068,-587.3836 1093.4912,-575.9522\"/>\n<polygon fill=\"#000000\" stroke=\"#000000\" points=\"1095.2183,-578.9969 1102.3097,-571.1252 1091.8573,-572.8566 1095.2183,-578.9969\"/>\n</g>\n<!-- 26 -->\n<g id=\"node27\" class=\"node\">\n<title>26</title>\n<polygon fill=\"none\" stroke=\"#000000\" points=\"964,-461.5 862,-461.5 862,-408.5 964,-408.5 964,-461.5\"/>\n<text text-anchor=\"middle\" x=\"913\" y=\"-446.3\" font-family=\"Times,serif\" font-size=\"14.00\" fill=\"#000000\">gini = 0.0</text>\n<text text-anchor=\"middle\" x=\"913\" y=\"-431.3\" font-family=\"Times,serif\" font-size=\"14.00\" fill=\"#000000\">samples = 28</text>\n<text text-anchor=\"middle\" x=\"913\" y=\"-416.3\" font-family=\"Times,serif\" font-size=\"14.00\" fill=\"#000000\">value = [0, 28]</text>\n</g>\n<!-- 25&#45;&gt;26 -->\n<g id=\"edge26\" class=\"edge\">\n<title>25&#45;&gt;26</title>\n<path fill=\"none\" stroke=\"#000000\" d=\"M952.0086,-504.9465C945.8657,-493.9316 939.0399,-481.6922 932.8373,-470.5703\"/>\n<polygon fill=\"#000000\" stroke=\"#000000\" points=\"935.7299,-468.5711 927.8024,-461.5422 929.6163,-471.9806 935.7299,-468.5711\"/>\n</g>\n<!-- 27 -->\n<g id=\"node28\" class=\"node\">\n<title>27</title>\n<polygon fill=\"none\" stroke=\"#000000\" points=\"1084,-461.5 982,-461.5 982,-408.5 1084,-408.5 1084,-461.5\"/>\n<text text-anchor=\"middle\" x=\"1033\" y=\"-446.3\" font-family=\"Times,serif\" font-size=\"14.00\" fill=\"#000000\">gini = 0.0</text>\n<text text-anchor=\"middle\" x=\"1033\" y=\"-431.3\" font-family=\"Times,serif\" font-size=\"14.00\" fill=\"#000000\">samples = 10</text>\n<text text-anchor=\"middle\" x=\"1033\" y=\"-416.3\" font-family=\"Times,serif\" font-size=\"14.00\" fill=\"#000000\">value = [10, 0]</text>\n</g>\n<!-- 25&#45;&gt;27 -->\n<g id=\"edge27\" class=\"edge\">\n<title>25&#45;&gt;27</title>\n<path fill=\"none\" stroke=\"#000000\" d=\"M991.3011,-504.9465C997.9334,-493.8215 1005.3103,-481.4473 1011.9933,-470.237\"/>\n<polygon fill=\"#000000\" stroke=\"#000000\" points=\"1015.0624,-471.9239 1017.1768,-461.5422 1009.0498,-468.3394 1015.0624,-471.9239\"/>\n</g>\n<!-- 29 -->\n<g id=\"node30\" class=\"node\">\n<title>29</title>\n<polygon fill=\"none\" stroke=\"#000000\" points=\"1219.5,-469 1102.5,-469 1102.5,-401 1219.5,-401 1219.5,-469\"/>\n<text text-anchor=\"middle\" x=\"1161\" y=\"-453.8\" font-family=\"Times,serif\" font-size=\"14.00\" fill=\"#000000\">X[2] &lt;= &#45;2.272</text>\n<text text-anchor=\"middle\" x=\"1161\" y=\"-438.8\" font-family=\"Times,serif\" font-size=\"14.00\" fill=\"#000000\">gini = 0.37</text>\n<text text-anchor=\"middle\" x=\"1161\" y=\"-423.8\" font-family=\"Times,serif\" font-size=\"14.00\" fill=\"#000000\">samples = 159</text>\n<text text-anchor=\"middle\" x=\"1161\" y=\"-408.8\" font-family=\"Times,serif\" font-size=\"14.00\" fill=\"#000000\">value = [120, 39]</text>\n</g>\n<!-- 28&#45;&gt;29 -->\n<g id=\"edge29\" class=\"edge\">\n<title>28&#45;&gt;29</title>\n<path fill=\"none\" stroke=\"#000000\" d=\"M1161,-504.9465C1161,-496.776 1161,-487.9318 1161,-479.3697\"/>\n<polygon fill=\"#000000\" stroke=\"#000000\" points=\"1164.5001,-479.13 1161,-469.13 1157.5001,-479.13 1164.5001,-479.13\"/>\n</g>\n<!-- 44 -->\n<g id=\"node45\" class=\"node\">\n<title>44</title>\n<polygon fill=\"none\" stroke=\"#000000\" points=\"1506,-469 1396,-469 1396,-401 1506,-401 1506,-469\"/>\n<text text-anchor=\"middle\" x=\"1451\" y=\"-453.8\" font-family=\"Times,serif\" font-size=\"14.00\" fill=\"#000000\">X[0] &lt;= 2.037</text>\n<text text-anchor=\"middle\" x=\"1451\" y=\"-438.8\" font-family=\"Times,serif\" font-size=\"14.00\" fill=\"#000000\">gini = 0.01</text>\n<text text-anchor=\"middle\" x=\"1451\" y=\"-423.8\" font-family=\"Times,serif\" font-size=\"14.00\" fill=\"#000000\">samples = 391</text>\n<text text-anchor=\"middle\" x=\"1451\" y=\"-408.8\" font-family=\"Times,serif\" font-size=\"14.00\" fill=\"#000000\">value = [389, 2]</text>\n</g>\n<!-- 28&#45;&gt;44 -->\n<g id=\"edge44\" class=\"edge\">\n<title>28&#45;&gt;44</title>\n<path fill=\"none\" stroke=\"#000000\" d=\"M1219.6858,-517.954C1267.941,-500.6487 1336.2487,-476.1522 1386.1225,-458.2664\"/>\n<polygon fill=\"#000000\" stroke=\"#000000\" points=\"1387.6086,-461.4518 1395.8401,-454.7815 1385.2455,-454.8627 1387.6086,-461.4518\"/>\n</g>\n<!-- 30 -->\n<g id=\"node31\" class=\"node\">\n<title>30</title>\n<polygon fill=\"none\" stroke=\"#000000\" points=\"1024,-365 922,-365 922,-297 1024,-297 1024,-365\"/>\n<text text-anchor=\"middle\" x=\"973\" y=\"-349.8\" font-family=\"Times,serif\" font-size=\"14.00\" fill=\"#000000\">X[1] &lt;= 5.736</text>\n<text text-anchor=\"middle\" x=\"973\" y=\"-334.8\" font-family=\"Times,serif\" font-size=\"14.00\" fill=\"#000000\">gini = 0.153</text>\n<text text-anchor=\"middle\" x=\"973\" y=\"-319.8\" font-family=\"Times,serif\" font-size=\"14.00\" fill=\"#000000\">samples = 24</text>\n<text text-anchor=\"middle\" x=\"973\" y=\"-304.8\" font-family=\"Times,serif\" font-size=\"14.00\" fill=\"#000000\">value = [2, 22]</text>\n</g>\n<!-- 29&#45;&gt;30 -->\n<g id=\"edge30\" class=\"edge\">\n<title>29&#45;&gt;30</title>\n<path fill=\"none\" stroke=\"#000000\" d=\"M1102.2889,-402.5215C1080.3207,-390.3689 1055.3443,-376.5521 1033.24,-364.3243\"/>\n<polygon fill=\"#000000\" stroke=\"#000000\" points=\"1034.7271,-361.1471 1024.2825,-359.3691 1031.3387,-367.2724 1034.7271,-361.1471\"/>\n</g>\n<!-- 33 -->\n<g id=\"node34\" class=\"node\">\n<title>33</title>\n<polygon fill=\"none\" stroke=\"#000000\" points=\"1219,-365 1103,-365 1103,-297 1219,-297 1219,-365\"/>\n<text text-anchor=\"middle\" x=\"1161\" y=\"-349.8\" font-family=\"Times,serif\" font-size=\"14.00\" fill=\"#000000\">X[3] &lt;= 0.082</text>\n<text text-anchor=\"middle\" x=\"1161\" y=\"-334.8\" font-family=\"Times,serif\" font-size=\"14.00\" fill=\"#000000\">gini = 0.22</text>\n<text text-anchor=\"middle\" x=\"1161\" y=\"-319.8\" font-family=\"Times,serif\" font-size=\"14.00\" fill=\"#000000\">samples = 135</text>\n<text text-anchor=\"middle\" x=\"1161\" y=\"-304.8\" font-family=\"Times,serif\" font-size=\"14.00\" fill=\"#000000\">value = [118, 17]</text>\n</g>\n<!-- 29&#45;&gt;33 -->\n<g id=\"edge33\" class=\"edge\">\n<title>29&#45;&gt;33</title>\n<path fill=\"none\" stroke=\"#000000\" d=\"M1161,-400.9465C1161,-392.776 1161,-383.9318 1161,-375.3697\"/>\n<polygon fill=\"#000000\" stroke=\"#000000\" points=\"1164.5001,-375.13 1161,-365.13 1157.5001,-375.13 1164.5001,-375.13\"/>\n</g>\n<!-- 31 -->\n<g id=\"node32\" class=\"node\">\n<title>31</title>\n<polygon fill=\"none\" stroke=\"#000000\" points=\"907,-253.5 805,-253.5 805,-200.5 907,-200.5 907,-253.5\"/>\n<text text-anchor=\"middle\" x=\"856\" y=\"-238.3\" font-family=\"Times,serif\" font-size=\"14.00\" fill=\"#000000\">gini = 0.0</text>\n<text text-anchor=\"middle\" x=\"856\" y=\"-223.3\" font-family=\"Times,serif\" font-size=\"14.00\" fill=\"#000000\">samples = 22</text>\n<text text-anchor=\"middle\" x=\"856\" y=\"-208.3\" font-family=\"Times,serif\" font-size=\"14.00\" fill=\"#000000\">value = [0, 22]</text>\n</g>\n<!-- 30&#45;&gt;31 -->\n<g id=\"edge31\" class=\"edge\">\n<title>30&#45;&gt;31</title>\n<path fill=\"none\" stroke=\"#000000\" d=\"M934.6898,-296.9465C921.4306,-285.1606 906.5942,-271.9726 893.4084,-260.2519\"/>\n<polygon fill=\"#000000\" stroke=\"#000000\" points=\"895.6593,-257.5699 885.8599,-253.5422 891.0088,-262.8018 895.6593,-257.5699\"/>\n</g>\n<!-- 32 -->\n<g id=\"node33\" class=\"node\">\n<title>32</title>\n<polygon fill=\"none\" stroke=\"#000000\" points=\"1020.5,-253.5 925.5,-253.5 925.5,-200.5 1020.5,-200.5 1020.5,-253.5\"/>\n<text text-anchor=\"middle\" x=\"973\" y=\"-238.3\" font-family=\"Times,serif\" font-size=\"14.00\" fill=\"#000000\">gini = 0.0</text>\n<text text-anchor=\"middle\" x=\"973\" y=\"-223.3\" font-family=\"Times,serif\" font-size=\"14.00\" fill=\"#000000\">samples = 2</text>\n<text text-anchor=\"middle\" x=\"973\" y=\"-208.3\" font-family=\"Times,serif\" font-size=\"14.00\" fill=\"#000000\">value = [2, 0]</text>\n</g>\n<!-- 30&#45;&gt;32 -->\n<g id=\"edge32\" class=\"edge\">\n<title>30&#45;&gt;32</title>\n<path fill=\"none\" stroke=\"#000000\" d=\"M973,-296.9465C973,-286.2621 973,-274.4254 973,-263.5742\"/>\n<polygon fill=\"#000000\" stroke=\"#000000\" points=\"976.5001,-263.5421 973,-253.5422 969.5001,-263.5422 976.5001,-263.5421\"/>\n</g>\n<!-- 34 -->\n<g id=\"node35\" class=\"node\">\n<title>34</title>\n<polygon fill=\"none\" stroke=\"#000000\" points=\"1149,-261 1039,-261 1039,-193 1149,-193 1149,-261\"/>\n<text text-anchor=\"middle\" x=\"1094\" y=\"-245.8\" font-family=\"Times,serif\" font-size=\"14.00\" fill=\"#000000\">X[0] &lt;= 0.42</text>\n<text text-anchor=\"middle\" x=\"1094\" y=\"-230.8\" font-family=\"Times,serif\" font-size=\"14.00\" fill=\"#000000\">gini = 0.02</text>\n<text text-anchor=\"middle\" x=\"1094\" y=\"-215.8\" font-family=\"Times,serif\" font-size=\"14.00\" fill=\"#000000\">samples = 101</text>\n<text text-anchor=\"middle\" x=\"1094\" y=\"-200.8\" font-family=\"Times,serif\" font-size=\"14.00\" fill=\"#000000\">value = [100, 1]</text>\n</g>\n<!-- 33&#45;&gt;34 -->\n<g id=\"edge34\" class=\"edge\">\n<title>33&#45;&gt;34</title>\n<path fill=\"none\" stroke=\"#000000\" d=\"M1139.0617,-296.9465C1133.451,-288.2373 1127.3471,-278.7626 1121.4958,-269.6801\"/>\n<polygon fill=\"#000000\" stroke=\"#000000\" points=\"1124.3457,-267.641 1115.9876,-261.13 1118.4611,-271.4321 1124.3457,-267.641\"/>\n</g>\n<!-- 39 -->\n<g id=\"node40\" class=\"node\">\n<title>39</title>\n<polygon fill=\"none\" stroke=\"#000000\" points=\"1277,-261 1167,-261 1167,-193 1277,-193 1277,-261\"/>\n<text text-anchor=\"middle\" x=\"1222\" y=\"-245.8\" font-family=\"Times,serif\" font-size=\"14.00\" fill=\"#000000\">X[1] &lt;= 1.647</text>\n<text text-anchor=\"middle\" x=\"1222\" y=\"-230.8\" font-family=\"Times,serif\" font-size=\"14.00\" fill=\"#000000\">gini = 0.498</text>\n<text text-anchor=\"middle\" x=\"1222\" y=\"-215.8\" font-family=\"Times,serif\" font-size=\"14.00\" fill=\"#000000\">samples = 34</text>\n<text text-anchor=\"middle\" x=\"1222\" y=\"-200.8\" font-family=\"Times,serif\" font-size=\"14.00\" fill=\"#000000\">value = [18, 16]</text>\n</g>\n<!-- 33&#45;&gt;39 -->\n<g id=\"edge39\" class=\"edge\">\n<title>33&#45;&gt;39</title>\n<path fill=\"none\" stroke=\"#000000\" d=\"M1180.9737,-296.9465C1186.0293,-288.3271 1191.5247,-278.9579 1196.8017,-269.9611\"/>\n<polygon fill=\"#000000\" stroke=\"#000000\" points=\"1199.9411,-271.5265 1201.9814,-261.13 1193.9031,-267.985 1199.9411,-271.5265\"/>\n</g>\n<!-- 35 -->\n<g id=\"node36\" class=\"node\">\n<title>35</title>\n<polygon fill=\"none\" stroke=\"#000000\" points=\"1025,-157 923,-157 923,-89 1025,-89 1025,-157\"/>\n<text text-anchor=\"middle\" x=\"974\" y=\"-141.8\" font-family=\"Times,serif\" font-size=\"14.00\" fill=\"#000000\">X[0] &lt;= 0.401</text>\n<text text-anchor=\"middle\" x=\"974\" y=\"-126.8\" font-family=\"Times,serif\" font-size=\"14.00\" fill=\"#000000\">gini = 0.133</text>\n<text text-anchor=\"middle\" x=\"974\" y=\"-111.8\" font-family=\"Times,serif\" font-size=\"14.00\" fill=\"#000000\">samples = 14</text>\n<text text-anchor=\"middle\" x=\"974\" y=\"-96.8\" font-family=\"Times,serif\" font-size=\"14.00\" fill=\"#000000\">value = [13, 1]</text>\n</g>\n<!-- 34&#45;&gt;35 -->\n<g id=\"edge35\" class=\"edge\">\n<title>34&#45;&gt;35</title>\n<path fill=\"none\" stroke=\"#000000\" d=\"M1054.7075,-192.9465C1043.9333,-183.6088 1032.1436,-173.3911 1020.985,-163.7203\"/>\n<polygon fill=\"#000000\" stroke=\"#000000\" points=\"1023.2299,-161.0344 1013.3808,-157.13 1018.6454,-166.3243 1023.2299,-161.0344\"/>\n</g>\n<!-- 38 -->\n<g id=\"node39\" class=\"node\">\n<title>38</title>\n<polygon fill=\"none\" stroke=\"#000000\" points=\"1145,-149.5 1043,-149.5 1043,-96.5 1145,-96.5 1145,-149.5\"/>\n<text text-anchor=\"middle\" x=\"1094\" y=\"-134.3\" font-family=\"Times,serif\" font-size=\"14.00\" fill=\"#000000\">gini = 0.0</text>\n<text text-anchor=\"middle\" x=\"1094\" y=\"-119.3\" font-family=\"Times,serif\" font-size=\"14.00\" fill=\"#000000\">samples = 87</text>\n<text text-anchor=\"middle\" x=\"1094\" y=\"-104.3\" font-family=\"Times,serif\" font-size=\"14.00\" fill=\"#000000\">value = [87, 0]</text>\n</g>\n<!-- 34&#45;&gt;38 -->\n<g id=\"edge38\" class=\"edge\">\n<title>34&#45;&gt;38</title>\n<path fill=\"none\" stroke=\"#000000\" d=\"M1094,-192.9465C1094,-182.2621 1094,-170.4254 1094,-159.5742\"/>\n<polygon fill=\"#000000\" stroke=\"#000000\" points=\"1097.5001,-159.5421 1094,-149.5422 1090.5001,-159.5422 1097.5001,-159.5421\"/>\n</g>\n<!-- 36 -->\n<g id=\"node37\" class=\"node\">\n<title>36</title>\n<polygon fill=\"none\" stroke=\"#000000\" points=\"968,-53 866,-53 866,0 968,0 968,-53\"/>\n<text text-anchor=\"middle\" x=\"917\" y=\"-37.8\" font-family=\"Times,serif\" font-size=\"14.00\" fill=\"#000000\">gini = 0.0</text>\n<text text-anchor=\"middle\" x=\"917\" y=\"-22.8\" font-family=\"Times,serif\" font-size=\"14.00\" fill=\"#000000\">samples = 13</text>\n<text text-anchor=\"middle\" x=\"917\" y=\"-7.8\" font-family=\"Times,serif\" font-size=\"14.00\" fill=\"#000000\">value = [13, 0]</text>\n</g>\n<!-- 35&#45;&gt;36 -->\n<g id=\"edge36\" class=\"edge\">\n<title>35&#45;&gt;36</title>\n<path fill=\"none\" stroke=\"#000000\" d=\"M953.9039,-88.9777C948.7656,-80.2786 943.227,-70.9018 938.0425,-62.1247\"/>\n<polygon fill=\"#000000\" stroke=\"#000000\" points=\"940.899,-60.0786 932.7996,-53.2485 934.8719,-63.6387 940.899,-60.0786\"/>\n</g>\n<!-- 37 -->\n<g id=\"node38\" class=\"node\">\n<title>37</title>\n<polygon fill=\"none\" stroke=\"#000000\" points=\"1081.5,-53 986.5,-53 986.5,0 1081.5,0 1081.5,-53\"/>\n<text text-anchor=\"middle\" x=\"1034\" y=\"-37.8\" font-family=\"Times,serif\" font-size=\"14.00\" fill=\"#000000\">gini = 0.0</text>\n<text text-anchor=\"middle\" x=\"1034\" y=\"-22.8\" font-family=\"Times,serif\" font-size=\"14.00\" fill=\"#000000\">samples = 1</text>\n<text text-anchor=\"middle\" x=\"1034\" y=\"-7.8\" font-family=\"Times,serif\" font-size=\"14.00\" fill=\"#000000\">value = [0, 1]</text>\n</g>\n<!-- 35&#45;&gt;37 -->\n<g id=\"edge37\" class=\"edge\">\n<title>35&#45;&gt;37</title>\n<path fill=\"none\" stroke=\"#000000\" d=\"M995.1538,-88.9777C1000.6195,-80.187 1006.5154,-70.7044 1012.0222,-61.8477\"/>\n<polygon fill=\"#000000\" stroke=\"#000000\" points=\"1015.0609,-63.5889 1017.3688,-53.2485 1009.1163,-59.8927 1015.0609,-63.5889\"/>\n</g>\n<!-- 40 -->\n<g id=\"node41\" class=\"node\">\n<title>40</title>\n<polygon fill=\"none\" stroke=\"#000000\" points=\"1265,-157 1163,-157 1163,-89 1265,-89 1265,-157\"/>\n<text text-anchor=\"middle\" x=\"1214\" y=\"-141.8\" font-family=\"Times,serif\" font-size=\"14.00\" fill=\"#000000\">X[2] &lt;= 1.952</text>\n<text text-anchor=\"middle\" x=\"1214\" y=\"-126.8\" font-family=\"Times,serif\" font-size=\"14.00\" fill=\"#000000\">gini = 0.198</text>\n<text text-anchor=\"middle\" x=\"1214\" y=\"-111.8\" font-family=\"Times,serif\" font-size=\"14.00\" fill=\"#000000\">samples = 18</text>\n<text text-anchor=\"middle\" x=\"1214\" y=\"-96.8\" font-family=\"Times,serif\" font-size=\"14.00\" fill=\"#000000\">value = [2, 16]</text>\n</g>\n<!-- 39&#45;&gt;40 -->\n<g id=\"edge40\" class=\"edge\">\n<title>39&#45;&gt;40</title>\n<path fill=\"none\" stroke=\"#000000\" d=\"M1219.3805,-192.9465C1218.752,-184.776 1218.0717,-175.9318 1217.4131,-167.3697\"/>\n<polygon fill=\"#000000\" stroke=\"#000000\" points=\"1220.8821,-166.8321 1216.6254,-157.13 1213.9027,-167.369 1220.8821,-166.8321\"/>\n</g>\n<!-- 43 -->\n<g id=\"node44\" class=\"node\">\n<title>43</title>\n<polygon fill=\"none\" stroke=\"#000000\" points=\"1385,-149.5 1283,-149.5 1283,-96.5 1385,-96.5 1385,-149.5\"/>\n<text text-anchor=\"middle\" x=\"1334\" y=\"-134.3\" font-family=\"Times,serif\" font-size=\"14.00\" fill=\"#000000\">gini = 0.0</text>\n<text text-anchor=\"middle\" x=\"1334\" y=\"-119.3\" font-family=\"Times,serif\" font-size=\"14.00\" fill=\"#000000\">samples = 16</text>\n<text text-anchor=\"middle\" x=\"1334\" y=\"-104.3\" font-family=\"Times,serif\" font-size=\"14.00\" fill=\"#000000\">value = [16, 0]</text>\n</g>\n<!-- 39&#45;&gt;43 -->\n<g id=\"edge43\" class=\"edge\">\n<title>39&#45;&gt;43</title>\n<path fill=\"none\" stroke=\"#000000\" d=\"M1258.673,-192.9465C1271.2469,-181.2707 1285.3026,-168.219 1297.8359,-156.5809\"/>\n<polygon fill=\"#000000\" stroke=\"#000000\" points=\"1300.4698,-158.9115 1305.4161,-149.5422 1295.7066,-153.7819 1300.4698,-158.9115\"/>\n</g>\n<!-- 41 -->\n<g id=\"node42\" class=\"node\">\n<title>41</title>\n<polygon fill=\"none\" stroke=\"#000000\" points=\"1205,-53 1103,-53 1103,0 1205,0 1205,-53\"/>\n<text text-anchor=\"middle\" x=\"1154\" y=\"-37.8\" font-family=\"Times,serif\" font-size=\"14.00\" fill=\"#000000\">gini = 0.0</text>\n<text text-anchor=\"middle\" x=\"1154\" y=\"-22.8\" font-family=\"Times,serif\" font-size=\"14.00\" fill=\"#000000\">samples = 16</text>\n<text text-anchor=\"middle\" x=\"1154\" y=\"-7.8\" font-family=\"Times,serif\" font-size=\"14.00\" fill=\"#000000\">value = [0, 16]</text>\n</g>\n<!-- 40&#45;&gt;41 -->\n<g id=\"edge41\" class=\"edge\">\n<title>40&#45;&gt;41</title>\n<path fill=\"none\" stroke=\"#000000\" d=\"M1192.8462,-88.9777C1187.3805,-80.187 1181.4846,-70.7044 1175.9778,-61.8477\"/>\n<polygon fill=\"#000000\" stroke=\"#000000\" points=\"1178.8837,-59.8927 1170.6312,-53.2485 1172.9391,-63.5889 1178.8837,-59.8927\"/>\n</g>\n<!-- 42 -->\n<g id=\"node43\" class=\"node\">\n<title>42</title>\n<polygon fill=\"none\" stroke=\"#000000\" points=\"1318.5,-53 1223.5,-53 1223.5,0 1318.5,0 1318.5,-53\"/>\n<text text-anchor=\"middle\" x=\"1271\" y=\"-37.8\" font-family=\"Times,serif\" font-size=\"14.00\" fill=\"#000000\">gini = 0.0</text>\n<text text-anchor=\"middle\" x=\"1271\" y=\"-22.8\" font-family=\"Times,serif\" font-size=\"14.00\" fill=\"#000000\">samples = 2</text>\n<text text-anchor=\"middle\" x=\"1271\" y=\"-7.8\" font-family=\"Times,serif\" font-size=\"14.00\" fill=\"#000000\">value = [2, 0]</text>\n</g>\n<!-- 40&#45;&gt;42 -->\n<g id=\"edge42\" class=\"edge\">\n<title>40&#45;&gt;42</title>\n<path fill=\"none\" stroke=\"#000000\" d=\"M1234.0961,-88.9777C1239.2344,-80.2786 1244.773,-70.9018 1249.9575,-62.1247\"/>\n<polygon fill=\"#000000\" stroke=\"#000000\" points=\"1253.1281,-63.6387 1255.2004,-53.2485 1247.101,-60.0786 1253.1281,-63.6387\"/>\n</g>\n<!-- 45 -->\n<g id=\"node46\" class=\"node\">\n<title>45</title>\n<polygon fill=\"none\" stroke=\"#000000\" points=\"1504,-365 1398,-365 1398,-297 1504,-297 1504,-365\"/>\n<text text-anchor=\"middle\" x=\"1451\" y=\"-349.8\" font-family=\"Times,serif\" font-size=\"14.00\" fill=\"#000000\">X[2] &lt;= &#45;2.675</text>\n<text text-anchor=\"middle\" x=\"1451\" y=\"-334.8\" font-family=\"Times,serif\" font-size=\"14.00\" fill=\"#000000\">gini = 0.081</text>\n<text text-anchor=\"middle\" x=\"1451\" y=\"-319.8\" font-family=\"Times,serif\" font-size=\"14.00\" fill=\"#000000\">samples = 47</text>\n<text text-anchor=\"middle\" x=\"1451\" y=\"-304.8\" font-family=\"Times,serif\" font-size=\"14.00\" fill=\"#000000\">value = [45, 2]</text>\n</g>\n<!-- 44&#45;&gt;45 -->\n<g id=\"edge45\" class=\"edge\">\n<title>44&#45;&gt;45</title>\n<path fill=\"none\" stroke=\"#000000\" d=\"M1451,-400.9465C1451,-392.776 1451,-383.9318 1451,-375.3697\"/>\n<polygon fill=\"#000000\" stroke=\"#000000\" points=\"1454.5001,-375.13 1451,-365.13 1447.5001,-375.13 1454.5001,-375.13\"/>\n</g>\n<!-- 50 -->\n<g id=\"node51\" class=\"node\">\n<title>50</title>\n<polygon fill=\"none\" stroke=\"#000000\" points=\"1632,-357.5 1522,-357.5 1522,-304.5 1632,-304.5 1632,-357.5\"/>\n<text text-anchor=\"middle\" x=\"1577\" y=\"-342.3\" font-family=\"Times,serif\" font-size=\"14.00\" fill=\"#000000\">gini = 0.0</text>\n<text text-anchor=\"middle\" x=\"1577\" y=\"-327.3\" font-family=\"Times,serif\" font-size=\"14.00\" fill=\"#000000\">samples = 344</text>\n<text text-anchor=\"middle\" x=\"1577\" y=\"-312.3\" font-family=\"Times,serif\" font-size=\"14.00\" fill=\"#000000\">value = [344, 0]</text>\n</g>\n<!-- 44&#45;&gt;50 -->\n<g id=\"edge50\" class=\"edge\">\n<title>44&#45;&gt;50</title>\n<path fill=\"none\" stroke=\"#000000\" d=\"M1492.2571,-400.9465C1506.6697,-389.0504 1522.8127,-375.726 1537.1117,-363.9237\"/>\n<polygon fill=\"#000000\" stroke=\"#000000\" points=\"1539.3589,-366.6071 1544.8431,-357.5422 1534.9029,-361.2086 1539.3589,-366.6071\"/>\n</g>\n<!-- 46 -->\n<g id=\"node47\" class=\"node\">\n<title>46</title>\n<polygon fill=\"none\" stroke=\"#000000\" points=\"1504,-261 1398,-261 1398,-193 1504,-193 1504,-261\"/>\n<text text-anchor=\"middle\" x=\"1451\" y=\"-245.8\" font-family=\"Times,serif\" font-size=\"14.00\" fill=\"#000000\">X[3] &lt;= &#45;1.796</text>\n<text text-anchor=\"middle\" x=\"1451\" y=\"-230.8\" font-family=\"Times,serif\" font-size=\"14.00\" fill=\"#000000\">gini = 0.444</text>\n<text text-anchor=\"middle\" x=\"1451\" y=\"-215.8\" font-family=\"Times,serif\" font-size=\"14.00\" fill=\"#000000\">samples = 3</text>\n<text text-anchor=\"middle\" x=\"1451\" y=\"-200.8\" font-family=\"Times,serif\" font-size=\"14.00\" fill=\"#000000\">value = [1, 2]</text>\n</g>\n<!-- 45&#45;&gt;46 -->\n<g id=\"edge46\" class=\"edge\">\n<title>45&#45;&gt;46</title>\n<path fill=\"none\" stroke=\"#000000\" d=\"M1451,-296.9465C1451,-288.776 1451,-279.9318 1451,-271.3697\"/>\n<polygon fill=\"#000000\" stroke=\"#000000\" points=\"1454.5001,-271.13 1451,-261.13 1447.5001,-271.13 1454.5001,-271.13\"/>\n</g>\n<!-- 49 -->\n<g id=\"node50\" class=\"node\">\n<title>49</title>\n<polygon fill=\"none\" stroke=\"#000000\" points=\"1624,-253.5 1522,-253.5 1522,-200.5 1624,-200.5 1624,-253.5\"/>\n<text text-anchor=\"middle\" x=\"1573\" y=\"-238.3\" font-family=\"Times,serif\" font-size=\"14.00\" fill=\"#000000\">gini = 0.0</text>\n<text text-anchor=\"middle\" x=\"1573\" y=\"-223.3\" font-family=\"Times,serif\" font-size=\"14.00\" fill=\"#000000\">samples = 44</text>\n<text text-anchor=\"middle\" x=\"1573\" y=\"-208.3\" font-family=\"Times,serif\" font-size=\"14.00\" fill=\"#000000\">value = [44, 0]</text>\n</g>\n<!-- 45&#45;&gt;49 -->\n<g id=\"edge49\" class=\"edge\">\n<title>45&#45;&gt;49</title>\n<path fill=\"none\" stroke=\"#000000\" d=\"M1490.9474,-296.9465C1504.7732,-285.1606 1520.2436,-271.9726 1533.9929,-260.2519\"/>\n<polygon fill=\"#000000\" stroke=\"#000000\" points=\"1536.5244,-262.6931 1541.864,-253.5422 1531.9832,-257.366 1536.5244,-262.6931\"/>\n</g>\n<!-- 47 -->\n<g id=\"node48\" class=\"node\">\n<title>47</title>\n<polygon fill=\"none\" stroke=\"#000000\" points=\"1498.5,-149.5 1403.5,-149.5 1403.5,-96.5 1498.5,-96.5 1498.5,-149.5\"/>\n<text text-anchor=\"middle\" x=\"1451\" y=\"-134.3\" font-family=\"Times,serif\" font-size=\"14.00\" fill=\"#000000\">gini = 0.0</text>\n<text text-anchor=\"middle\" x=\"1451\" y=\"-119.3\" font-family=\"Times,serif\" font-size=\"14.00\" fill=\"#000000\">samples = 1</text>\n<text text-anchor=\"middle\" x=\"1451\" y=\"-104.3\" font-family=\"Times,serif\" font-size=\"14.00\" fill=\"#000000\">value = [1, 0]</text>\n</g>\n<!-- 46&#45;&gt;47 -->\n<g id=\"edge47\" class=\"edge\">\n<title>46&#45;&gt;47</title>\n<path fill=\"none\" stroke=\"#000000\" d=\"M1451,-192.9465C1451,-182.2621 1451,-170.4254 1451,-159.5742\"/>\n<polygon fill=\"#000000\" stroke=\"#000000\" points=\"1454.5001,-159.5421 1451,-149.5422 1447.5001,-159.5422 1454.5001,-159.5421\"/>\n</g>\n<!-- 48 -->\n<g id=\"node49\" class=\"node\">\n<title>48</title>\n<polygon fill=\"none\" stroke=\"#000000\" points=\"1611.5,-149.5 1516.5,-149.5 1516.5,-96.5 1611.5,-96.5 1611.5,-149.5\"/>\n<text text-anchor=\"middle\" x=\"1564\" y=\"-134.3\" font-family=\"Times,serif\" font-size=\"14.00\" fill=\"#000000\">gini = 0.0</text>\n<text text-anchor=\"middle\" x=\"1564\" y=\"-119.3\" font-family=\"Times,serif\" font-size=\"14.00\" fill=\"#000000\">samples = 2</text>\n<text text-anchor=\"middle\" x=\"1564\" y=\"-104.3\" font-family=\"Times,serif\" font-size=\"14.00\" fill=\"#000000\">value = [0, 2]</text>\n</g>\n<!-- 46&#45;&gt;48 -->\n<g id=\"edge48\" class=\"edge\">\n<title>46&#45;&gt;48</title>\n<path fill=\"none\" stroke=\"#000000\" d=\"M1488.0004,-192.9465C1500.6866,-181.2707 1514.8678,-168.219 1527.513,-156.5809\"/>\n<polygon fill=\"#000000\" stroke=\"#000000\" points=\"1530.1731,-158.8895 1535.1609,-149.5422 1525.4327,-153.7389 1530.1731,-158.8895\"/>\n</g>\n</g>\n</svg>\n"
          },
          "metadata": {
            "tags": []
          },
          "execution_count": 28
        }
      ]
    }
  ]
}